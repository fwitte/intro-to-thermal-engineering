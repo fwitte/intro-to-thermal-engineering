{
 "cells": [
  {
   "cell_type": "markdown",
   "metadata": {},
   "source": [
    "# Exercises using TESPy"
   ]
  },
  {
   "cell_type": "code",
   "execution_count": null,
   "metadata": {},
   "outputs": [],
   "source": [
    "from tespy.components import Compressor, SimpleHeatExchanger, Valve, CycleCloser\n",
    "from tespy.connections import Connection\n",
    "from tespy.tools.helpers import UserDefinedEquation\n",
    "from tespy.networks import Network\n",
    "\n",
    "\n",
    "nw = Network(T_unit=\"C\", p_unit=\"bar\", h_unit=\"kJ / kg\", iterinfo=False)\n",
    "\n",
    "cc = CycleCloser(\"cycle closer\")\n",
    "ev = SimpleHeatExchanger(\"evaporator\")\n",
    "cp = Compressor(\"compressor\")\n",
    "cd = SimpleHeatExchanger(\"condenser\")\n",
    "va = Valve(\"valve\")\n",
    "\n",
    "c1 = Connection(cc, \"out1\", ev, \"in1\", label=\"1\")\n",
    "c2 = Connection(ev, \"out1\", cp, \"in1\", label=\"2\")\n",
    "c3 = Connection(cp, \"out1\", cd, \"in1\", label=\"3\")\n",
    "c4 = Connection(cd, \"out1\", va, \"in1\", label=\"4\")\n",
    "c0 = Connection(va, \"out1\", cc, \"in1\", label=\"0\")\n",
    "\n",
    "nw.add_conns(c0, c1, c2, c3, c4)"
   ]
  },
  {
   "cell_type": "code",
   "execution_count": null,
   "metadata": {},
   "outputs": [],
   "source": [
    "t_2 = 10\n",
    "t_4 = 60\n",
    "heat = -1e6\n",
    "fluid = \"R290\"\n",
    "eta_s = 0.8\n",
    "\n",
    "c2.set_attr(fluid={fluid: 1}, x=1, T=t_2)\n",
    "c4.set_attr(x=0, T=t_4)\n",
    "cp.set_attr(eta_s=eta_s)\n",
    "ev.set_attr(pr=1)\n",
    "cd.set_attr(pr=1, Q=heat)"
   ]
  },
  {
   "cell_type": "code",
   "execution_count": null,
   "metadata": {},
   "outputs": [],
   "source": [
    "nw.solve(\"design\")"
   ]
  },
  {
   "cell_type": "code",
   "execution_count": null,
   "metadata": {},
   "outputs": [],
   "source": [
    "cop = abs(cd.Q.val) / cp.P.val\n",
    "cop\n",
    "cp.P.val"
   ]
  },
  {
   "cell_type": "code",
   "execution_count": null,
   "metadata": {},
   "outputs": [],
   "source": [
    "cp.set_attr(P=0.2e6)\n",
    "cd.set_attr(Q=None)\n",
    "nw.solve(\"design\")\n",
    "cd.Q.val"
   ]
  },
  {
   "cell_type": "code",
   "execution_count": null,
   "metadata": {},
   "outputs": [],
   "source": [
    "cd.set_attr(Q=-1e6)\n",
    "c4.set_attr(T=None)\n",
    "nw.solve(\"design\")\n",
    "c4.T.val"
   ]
  },
  {
   "cell_type": "code",
   "execution_count": null,
   "metadata": {},
   "outputs": [],
   "source": [
    "def cop_ude(ude):\n",
    "    c1, c2, c3 = ude.conns\n",
    "    cop = ude.params[\"cop\"]\n",
    "    return (c2.h.val_SI - c3.h.val_SI) - cop * (c2.h.val_SI - c1.h.val_SI)\n",
    "\n",
    "\n",
    "def cop_jacobian(ude):\n",
    "    c1, c2, c3 = ude.conns\n",
    "    if c1.h.is_var:\n",
    "        ude.jacobian[c1.h.J_col] = cop\n",
    "    if c2.h.is_var:\n",
    "        ude.jacobian[c2.h.J_col] = 1 - cop\n",
    "    if c3.h.is_var:\n",
    "        ude.jacobian[c3.h.J_col] = -1"
   ]
  },
  {
   "cell_type": "code",
   "execution_count": null,
   "metadata": {},
   "outputs": [],
   "source": [
    "cd.set_attr(Q=None)\n",
    "\n",
    "\n",
    "ude = UserDefinedEquation(\"cop-ude\", cop_ude, cop_jacobian, [c2, c3, c4], {\"cop\": 5})\n",
    "nw.add_ude(ude)\n",
    "\n",
    "nw.solve(\"design\")"
   ]
  },
  {
   "cell_type": "code",
   "execution_count": null,
   "metadata": {},
   "outputs": [],
   "source": [
    "c4.T.val - c2.T.val"
   ]
  },
  {
   "cell_type": "code",
   "execution_count": null,
   "metadata": {},
   "outputs": [],
   "source": [
    "c2.set_attr(T=None)\n",
    "c1.set_attr(x=0.35)"
   ]
  },
  {
   "cell_type": "code",
   "execution_count": null,
   "metadata": {},
   "outputs": [],
   "source": [
    "nw.solve(\"design\")\n",
    "c4.T.val - c2.T.val"
   ]
  },
  {
   "cell_type": "code",
   "execution_count": null,
   "metadata": {},
   "outputs": [],
   "source": [
    "cp.set_attr(eta_s=None, P=None)\n",
    "cd.set_attr(Q=-1e6)\n",
    "c1.set_attr(m=3.5)\n",
    "nw.solve(\"design\")\n",
    "c4.T.val, c2.T.val\n",
    "cp.eta_s.val"
   ]
  }
 ],
 "metadata": {
  "kernelspec": {
   "display_name": "teaching-thermal-modeling",
   "language": "python",
   "name": "python3"
  },
  "language_info": {
   "codemirror_mode": {
    "name": "ipython",
    "version": 3
   },
   "file_extension": ".py",
   "mimetype": "text/x-python",
   "name": "python",
   "nbconvert_exporter": "python",
   "pygments_lexer": "ipython3",
   "version": "3.11.6"
  },
  "orig_nbformat": 4
 },
 "nbformat": 4,
 "nbformat_minor": 2
}

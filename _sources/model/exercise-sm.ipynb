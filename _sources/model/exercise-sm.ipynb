{
 "cells": [
  {
   "attachments": {},
   "cell_type": "markdown",
   "metadata": {},
   "source": [
    "# Exercises\n",
    "\n",
    "Create a model of a simple heat pump using R290 as refrigerant and with the\n",
    "boundary conditions denoted in table below. Do not consider hot side of the\n",
    "evaporator or cold side of the condenser in your model.\n",
    "\n",
    "```{figure} /figures/heat_pump.svg\n",
    "---\n",
    "name: simple heat pump flowsheet\n",
    "---\n",
    "Flow sheet of the simple heat pump.\n",
    "```\n",
    "\n",
    "## Setup\n",
    "\n",
    "| Location | Parameter | Value | Unit |\n",
    "|:--------- |:-------- | -----:| ---- |\n",
    "| 2 | Temperature | 10 | °C |\n",
    "| 4 | Temperature | 60 | °C |\n",
    "| Condenser | Heat transfer | 1 | MW |\n",
    "| Compressor | efficiency | 80 | % |\n",
    "\n",
    "## Tasks part 1\n",
    "\n",
    "Calculate:\n",
    "\n",
    "- pressure levels for evaporation and condensation. \n",
    "- COP and compressor power input.\n",
    "- the Carnot factor.\n",
    "- the mass flow of the refrigerant.\n",
    "\n",
    "Create three figures:\n",
    "\n",
    "- A logph-diagram of the cycle.\n",
    "- Two diagrams indicating the dependency of the COP:\n",
    "  - as function of the heat temperature level\n",
    "  - as function of the heat sink temperature level\n",
    "\n",
    "Modify your model and calculate the following:\n",
    "\n",
    "- How would the COP of the heat pump change if\n",
    "  - the fluid leaving the evaporated is superheated by 5 °C?\n",
    "  - the fluid leaving the condenser is subcooled by 5 °C?\n",
    "- What is the maximum heat supply temperature, that can be reached if (e.g. due\n",
    "  to regulatory constraints) the cop of the heat pump has to be 6 at minimum?"
   ]
  },
  {
   "cell_type": "code",
   "execution_count": null,
   "metadata": {},
   "outputs": [],
   "source": [
    "from CoolProp.CoolProp import PropsSI\n",
    "\n",
    "\n",
    "def run_forward(fluid, t_2, t_4, eta_s, heat):\n",
    "\n",
    "    p_2 = PropsSI(\"P\", \"T\", t_2, \"Q\", 1, fluid)\n",
    "    p_4 = PropsSI(\"P\", \"T\", t_4, \"Q\", 0, fluid)\n",
    "\n",
    "    h_2 = PropsSI(\"H\", \"T\", t_2, \"Q\", 1, fluid)\n",
    "    s_2 = PropsSI(\"S\", \"T\", t_2, \"Q\", 1, fluid)\n",
    "\n",
    "    p_3 = p_4\n",
    "    h_3s = PropsSI(\"H\", \"S\", s_2, \"P\", p_3, fluid)\n",
    "    h_3 = h_2 + (h_3s - h_2) / eta_s\n",
    "\n",
    "    h_4 = PropsSI(\"H\", \"T\", t_4, \"Q\", 0, fluid)\n",
    "    h_1 = h_4\n",
    "\n",
    "    m = heat / (h_4 - h_3)\n",
    "    power = m * (h_3 - h_2)\n",
    "    return m, power, p_4, p_2\n",
    "\n",
    "\n",
    "fluid = \"R290\"\n",
    "t_2 = 283.15\n",
    "t_4 = 333.15\n",
    "eta_s = 0.8\n",
    "heat = -1e6\n",
    "m, power, p_4, p_2 = run_forward(fluid, t_2, t_4, eta_s, heat)\n",
    "cop = abs(heat) / power\n",
    "heat_evap = abs(heat) - power"
   ]
  },
  {
   "cell_type": "code",
   "execution_count": null,
   "metadata": {},
   "outputs": [],
   "source": [
    "round(cop, 2)"
   ]
  },
  {
   "cell_type": "code",
   "execution_count": null,
   "metadata": {},
   "outputs": [],
   "source": [
    "round(heat_evap)"
   ]
  },
  {
   "cell_type": "code",
   "execution_count": null,
   "metadata": {},
   "outputs": [],
   "source": [
    "round(power)"
   ]
  },
  {
   "cell_type": "code",
   "execution_count": null,
   "metadata": {},
   "outputs": [],
   "source": [
    "round(m, 2)"
   ]
  },
  {
   "cell_type": "code",
   "execution_count": null,
   "metadata": {},
   "outputs": [],
   "source": [
    "round(p_2)"
   ]
  },
  {
   "cell_type": "code",
   "execution_count": null,
   "metadata": {},
   "outputs": [],
   "source": [
    "round(p_4)"
   ]
  },
  {
   "cell_type": "markdown",
   "metadata": {},
   "source": [
    "Change the working fluid in your setup to ammonia.\n",
    "\n",
    "- How does the COP compare to the first setup? Why is it different?\n"
   ]
  },
  {
   "cell_type": "code",
   "execution_count": null,
   "metadata": {},
   "outputs": [],
   "source": [
    "fluid = \"NH3\"\n",
    "m, power, p_4, p_2 = run_forward(fluid, t_2, t_4, eta_s, heat)\n",
    "cop = abs(heat) / power\n",
    "heat_evap = abs(heat) - power\n",
    "heat_evap"
   ]
  },
  {
   "cell_type": "code",
   "execution_count": null,
   "metadata": {},
   "outputs": [],
   "source": [
    "round(cop, 2)"
   ]
  },
  {
   "cell_type": "markdown",
   "metadata": {},
   "source": [
    "Carnot-efficiency is higher per se. Thermodynamic temperature of heat supply is lower than with the first fluid."
   ]
  },
  {
   "cell_type": "markdown",
   "metadata": {},
   "source": [
    "## Tasks part 2\n",
    "\n",
    "The available compressor power is now limited to 200 kW.\n",
    "\n",
    "- What amount of heat can the heat pump deliver in the conditions given in the\n",
    "  table?\n",
    "- What amount of heat can be delivered when the heat source temperature is\n",
    "  reduced to 0 °C.\n",
    "- At which heat source temperature level does the heat pump deliver 1 MW of heat\n",
    "  again?\n"
   ]
  },
  {
   "cell_type": "code",
   "execution_count": null,
   "metadata": {},
   "outputs": [],
   "source": [
    "power_new = 0.2e6\n",
    "fluid = \"R290\"\n",
    "power = 0\n",
    "heat_guess = -1e6\n",
    "d = 1e-6\n",
    "while abs(power - power_new) > 1e-6:\n",
    "    m, power, p_2, p_4 = run_forward(fluid, t_2, t_4, eta_s, heat_guess)\n",
    "    residual = power - power_new\n",
    "    heat_upper = heat_guess + d\n",
    "    heat_lower = heat_guess - d\n",
    "    _, power_upper, _, _ = run_forward(fluid, t_2, t_4, eta_s, heat_upper)\n",
    "    _, power_lower, _, _ = run_forward(fluid, t_2, t_4, eta_s, heat_lower)\n",
    "    derivative = (power_upper - power_lower) / (2 * d)\n",
    "    heat_guess -= residual / derivative\n",
    "\n",
    "heat_guess"
   ]
  },
  {
   "cell_type": "code",
   "execution_count": null,
   "metadata": {},
   "outputs": [],
   "source": [
    "power_new = 0.2e6\n",
    "fluid = \"R290\"\n",
    "power = 0\n",
    "heat = -1e6\n",
    "d = 1e-6\n",
    "t_4_guess = 333.15\n",
    "while abs(power - power_new) > 1e-6:\n",
    "    m, power, p_2, p_4 = run_forward(fluid, t_2, t_4_guess, eta_s, heat)\n",
    "    residual = power - power_new\n",
    "    t_4_upper = t_4_guess + d\n",
    "    t_4_lower = t_4_guess - d\n",
    "    _, power_upper, _, _ = run_forward(fluid, t_2, t_4_upper, eta_s, heat)\n",
    "    _, power_lower, _, _ = run_forward(fluid, t_2, t_4_lower, eta_s, heat)\n",
    "    derivative = (power_upper - power_lower) / (2 * d)\n",
    "    t_4_guess -= residual / derivative\n",
    "\n",
    "t_4_guess"
   ]
  }
 ],
 "metadata": {
  "kernelspec": {
   "display_name": "teaching-thermal-modeling",
   "language": "python",
   "name": "python3"
  },
  "language_info": {
   "codemirror_mode": {
    "name": "ipython",
    "version": 3
   },
   "file_extension": ".py",
   "mimetype": "text/x-python",
   "name": "python",
   "nbconvert_exporter": "python",
   "pygments_lexer": "ipython3",
   "version": "3.11.6"
  },
  "orig_nbformat": 4
 },
 "nbformat": 4,
 "nbformat_minor": 2
}

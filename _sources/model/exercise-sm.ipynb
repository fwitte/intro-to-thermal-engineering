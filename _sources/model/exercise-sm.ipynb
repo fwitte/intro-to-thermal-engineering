{
 "cells": [
  {
   "attachments": {},
   "cell_type": "markdown",
   "metadata": {},
   "source": [
    "(exercise-heat-pump)=\n",
    "\n",
    "# Exercises\n",
    "\n",
    "Create a model of a simple heat pump using R290 as refrigerant and with the\n",
    "boundary conditions denoted in table below. Do not consider hot side of the\n",
    "evaporator or cold side of the condenser in your model.\n",
    "\n",
    "```{figure} /figures/heat_pump.svg\n",
    "---\n",
    "name: simple heat pump flowsheet\n",
    "---\n",
    "Flow sheet of the simple heat pump.\n",
    "```\n",
    "\n",
    "## Setup\n",
    "\n",
    "| Location | Parameter | Value | Unit |\n",
    "|:--------- |:-------- | -----:| ---- |\n",
    "| 2 | Temperature | 10 | °C |\n",
    "| 4 | Temperature | 60 | °C |\n",
    "| Condenser | Heat transfer | 1 | MW |\n",
    "| Compressor | efficiency | 80 | % |\n",
    "\n",
    "## Tasks part 1\n",
    "\n",
    "Calculate:\n",
    "\n",
    "- pressure levels for evaporation and condensation. \n",
    "- COP and compressor power input.\n",
    "- the Carnot factor.\n",
    "- the mass flow of the refrigerant.\n",
    "\n",
    "Create three figures:\n",
    "\n",
    "- A logph-diagram of the cycle.\n",
    "- Two diagrams indicating the dependency of the COP:\n",
    "  - as function of the heat temperature level\n",
    "  - as function of the heat sink temperature level\n",
    "\n",
    "We can calculate the evaporator and condenser outlet state based on temperature\n",
    "specification. The isentropic efficiency value allows us to calculate the \n",
    "compressor outlet enthalpy. Finally, the condenser heat production leads to the\n",
    "mass flow."
   ]
  },
  {
   "cell_type": "code",
   "execution_count": null,
   "metadata": {},
   "outputs": [],
   "source": [
    "from CoolProp.CoolProp import PropsSI\n",
    "\n",
    "\n",
    "\n",
    "fluid = \"R290\"\n",
    "t_2 = 283.15\n",
    "t_4 = 333.15\n",
    "eta_s = 0.8\n",
    "heat = -1e6\n",
    "\n",
    "p_2 = PropsSI(\"P\", \"T\", t_2, \"Q\", 1, fluid)\n",
    "p_4 = PropsSI(\"P\", \"T\", t_4, \"Q\", 0, fluid)\n",
    "\n",
    "h_2 = PropsSI(\"H\", \"T\", t_2, \"Q\", 1, fluid)\n",
    "s_2 = PropsSI(\"S\", \"T\", t_2, \"Q\", 1, fluid)\n",
    "\n",
    "p_3 = p_4\n",
    "h_3s = PropsSI(\"H\", \"S\", s_2, \"P\", p_3, fluid)\n",
    "h_3 = h_2 + (h_3s - h_2) / eta_s\n",
    "\n",
    "h_4 = PropsSI(\"H\", \"T\", t_4, \"Q\", 0, fluid)\n",
    "h_1 = h_4\n",
    "p_1 = p_2\n",
    "\n",
    "m = heat / (h_4 - h_3)\n",
    "power = m * (h_3 - h_2)\n",
    "cop = abs(heat) / power\n",
    "heat_evap = abs(heat) - power"
   ]
  },
  {
   "cell_type": "markdown",
   "metadata": {},
   "source": [
    "We can examine a couple of the results calculated:"
   ]
  },
  {
   "cell_type": "code",
   "execution_count": null,
   "metadata": {},
   "outputs": [],
   "source": [
    "round(cop, 2)"
   ]
  },
  {
   "cell_type": "code",
   "execution_count": null,
   "metadata": {},
   "outputs": [],
   "source": [
    "round(heat_evap)"
   ]
  },
  {
   "cell_type": "code",
   "execution_count": null,
   "metadata": {},
   "outputs": [],
   "source": [
    "round(power)"
   ]
  },
  {
   "cell_type": "code",
   "execution_count": null,
   "metadata": {},
   "outputs": [],
   "source": [
    "round(m, 2)"
   ]
  },
  {
   "cell_type": "code",
   "execution_count": null,
   "metadata": {},
   "outputs": [],
   "source": [
    "round(p_2)"
   ]
  },
  {
   "cell_type": "code",
   "execution_count": null,
   "metadata": {},
   "outputs": [],
   "source": [
    "round(p_4)"
   ]
  },
  {
   "cell_type": "markdown",
   "metadata": {},
   "source": [
    "Next we create a logph-diagram of the process. For that, we start by plotting\n",
    "the saturation dome and then insert the states and connect them."
   ]
  },
  {
   "cell_type": "code",
   "execution_count": null,
   "metadata": {},
   "outputs": [],
   "source": [
    "import numpy as np\n",
    "from matplotlib import pyplot as plt\n",
    "\n",
    "\n",
    "p_range = np.geomspace(PropsSI(\"P\", \"T\", 273.15, \"Q\", 0, fluid), PropsSI(\"PCRIT\", fluid))\n",
    "boiling_line = PropsSI(\"H\", \"P\", p_range, \"Q\", 0, fluid) / 1e3\n",
    "dew_line = PropsSI(\"H\", \"P\", p_range, \"Q\", 1, fluid) / 1e3\n",
    "\n",
    "fig, ax = plt.subplots(1, figsize=(12, 6))\n",
    "\n",
    "ax.set_yscale(\"log\")\n",
    "ax.plot(boiling_line, p_range, color=\"#000\")\n",
    "ax.plot(dew_line, p_range, color=\"#000\")\n",
    "\n",
    "ax.scatter([h / 1e3 for h in [h_1, h_2, h_3, h_4]], [p_1, p_2, p_3, p_4])\n",
    "ax.plot([h / 1e3 for h in [h_1, h_2, h_3, h_4, h_1]], [p_1, p_2, p_3, p_4, p_1])\n",
    "\n",
    "ax.set_ylabel(\"pressure in Pa\")\n",
    "ax.set_xlabel(\"enthalpy in kJ/kg\")\n",
    "\n",
    "_x_lims = ax.get_xlim()\n",
    "_y_lims = ax.get_ylim()\n",
    "\n",
    "\n",
    "plt.tight_layout()"
   ]
  },
  {
   "cell_type": "markdown",
   "metadata": {},
   "source": [
    "Alternatively we can use a library wrapping around CoolProp to plot styled\n",
    "diagrams, i.e. `fluprodia`."
   ]
  },
  {
   "cell_type": "code",
   "execution_count": null,
   "metadata": {},
   "outputs": [],
   "source": [
    "from fluprodia import FluidPropertyDiagram\n",
    "import numpy as np\n",
    "\n",
    "fluid = \"R290\"\n",
    "diagram = FluidPropertyDiagram(fluid)\n",
    "diagram.set_unit_system(T=\"°C\", h=\"kJ/kg\")\n",
    "diagram.set_isolines(T=np.arange(-25, 101, 25), s=np.arange(1250, 3001, 250), h=np.arange(100, 801, 100))\n",
    "diagram.calc_isolines()"
   ]
  },
  {
   "cell_type": "code",
   "execution_count": null,
   "metadata": {},
   "outputs": [],
   "source": [
    "fig, ax = plt.subplots(1, figsize=(12, 6))\n",
    "\n",
    "diagram.draw_isolines(fig, ax, \"logph\", _x_lims[0], _x_lims[1], _y_lims[0], _y_lims[1])\n",
    "ax.scatter([h / 1e3 for h in [h_1, h_2, h_3, h_4]], [p_1, p_2, p_3, p_4])\n",
    "ax.plot([h / 1e3 for h in [h_1, h_2, h_3, h_4, h_1]], [p_1, p_2, p_3, p_4, p_1])\n",
    "\n",
    "ax.set_ylabel(\"pressure in Pa\")\n",
    "ax.set_xlabel(\"enthalpy in kJ/kg\")\n",
    "\n",
    "plt.tight_layout()"
   ]
  },
  {
   "cell_type": "markdown",
   "metadata": {},
   "source": [
    "With this we can also easily put in a Ts diagram. To plot the lines, we have to\n",
    "follow the isobars, which are partly in the two-phase partly in overheated\n",
    "region. For this, fluprodia provides extra functionality."
   ]
  },
  {
   "cell_type": "code",
   "execution_count": null,
   "metadata": {},
   "outputs": [],
   "source": [
    "fig, ax = plt.subplots(1, figsize=(12, 6))\n",
    "\n",
    "diagram.draw_isolines(fig, ax, \"Ts\", 1000, 2500, -25, 125)\n",
    "\n",
    "t = []\n",
    "s = []\n",
    "for p, h in zip([p_1, p_2, p_3, p_4], [h_1, h_2, h_3, h_4]):\n",
    "    t += [PropsSI(\"T\", \"P\", p, \"H\", h, fluid) - 273.15]\n",
    "    s += [PropsSI(\"S\", \"P\", p, \"H\", h, fluid)]\n",
    "\n",
    "ax.scatter(s, t)\n",
    "\n",
    "lines = {\n",
    "    \"12\": {\n",
    "        \"isoline_property\": \"p\",\n",
    "        \"isoline_value\": p_1,\n",
    "        \"starting_point_property\": \"h\",\n",
    "        \"starting_point_value\": h_1 / 1e3,\n",
    "        \"ending_point_property\": \"h\",\n",
    "        \"ending_point_value\": h_2 / 1e3\n",
    "    },\n",
    "    \"23\": {\n",
    "        \"isoline_property\": \"s\",\n",
    "        \"isoline_value\": s[1],\n",
    "        \"isoline_value_end\": s[2],\n",
    "        \"starting_point_property\": \"p\",\n",
    "        \"starting_point_value\": p_2,\n",
    "        \"ending_point_property\": \"p\",\n",
    "        \"ending_point_value\": p_3\n",
    "    },\n",
    "    \"34\": {\n",
    "        \"isoline_property\": \"p\",\n",
    "        \"isoline_value\": p_3,\n",
    "        \"starting_point_property\": \"h\",\n",
    "        \"starting_point_value\": h_3 / 1e3,\n",
    "        \"ending_point_property\": \"h\",\n",
    "        \"ending_point_value\": h_4 / 1e3\n",
    "    },\n",
    "    \"41\": {\n",
    "        \"isoline_property\": \"h\",\n",
    "        \"isoline_value\": h_4 / 1e3,\n",
    "        \"starting_point_property\": \"p\",\n",
    "        \"starting_point_value\": p_4,\n",
    "        \"ending_point_property\": \"p\",\n",
    "        \"ending_point_value\": p_1\n",
    "    },\n",
    "}\n",
    "\n",
    "for line in lines.values():\n",
    "    line_data = diagram.calc_individual_isoline(**line)\n",
    "    ax.plot(line_data[\"s\"], line_data[\"T\"], color=\"#FF0000\")\n",
    "\n",
    "ax.set_ylabel(\"temperature in °C\")\n",
    "ax.set_xlabel(\"entropy in J/kgK\")\n",
    "plt.tight_layout()"
   ]
  },
  {
   "cell_type": "markdown",
   "metadata": {},
   "source": [
    "Next we want to make a parametric study on the temperature level of evaporation\n",
    "and condensation. For that, we transform our small script to a function first."
   ]
  },
  {
   "cell_type": "code",
   "execution_count": null,
   "metadata": {},
   "outputs": [],
   "source": [
    "def run_forward(fluid, t_2, t_4, eta_s, heat):\n",
    "    p_2 = PropsSI(\"P\", \"T\", t_2, \"Q\", 1, fluid)\n",
    "    p_4 = PropsSI(\"P\", \"T\", t_4, \"Q\", 0, fluid)\n",
    "\n",
    "    h_2 = PropsSI(\"H\", \"T\", t_2, \"Q\", 1, fluid)\n",
    "    s_2 = PropsSI(\"S\", \"T\", t_2, \"Q\", 1, fluid)\n",
    "\n",
    "    p_3 = p_4\n",
    "    h_3s = PropsSI(\"H\", \"S\", s_2, \"P\", p_3, fluid)\n",
    "    h_3 = h_2 + (h_3s - h_2) / eta_s\n",
    "\n",
    "    h_4 = PropsSI(\"H\", \"T\", t_4, \"Q\", 0, fluid)\n",
    "\n",
    "    m = heat / (h_4 - h_3)\n",
    "    power = m * (h_3 - h_2)\n",
    "    cop = abs(heat) / power\n",
    "    heat_evap = abs(heat) - power\n",
    "    return m, power, cop, heat_evap"
   ]
  },
  {
   "cell_type": "markdown",
   "metadata": {},
   "source": [
    "We can double-check, if we get the same result as previously:"
   ]
  },
  {
   "cell_type": "code",
   "execution_count": null,
   "metadata": {},
   "outputs": [],
   "source": [
    "fluid = \"R290\"\n",
    "t_2 = 283.15\n",
    "t_4 = 333.15\n",
    "eta_s = 0.8\n",
    "heat = -1e6\n",
    "\n",
    "m, power, cop, heat_evap = run_forward(fluid, t_2, t_4, eta_s, heat)\n",
    "round(cop, 2)"
   ]
  },
  {
   "cell_type": "markdown",
   "metadata": {},
   "source": [
    "For the parametric study, we change both temperatures in a loop:"
   ]
  },
  {
   "cell_type": "code",
   "execution_count": null,
   "metadata": {},
   "outputs": [],
   "source": [
    "import pandas as pd\n",
    "\n",
    "\n",
    "t_2_range = np.linspace(-15, 15, 31)\n",
    "t_4_range = np.linspace(40, 70, 31)\n",
    "\n",
    "cop_parametric = pd.DataFrame(index=t_2_range, columns=t_4_range)\n",
    "\n",
    "for t_2 in t_2_range:\n",
    "    _, _, cop, _ = run_forward(fluid, t_2 + 273.15, t_4_range + 273.15, eta_s, heat)\n",
    "    cop_parametric.loc[t_2] = cop"
   ]
  },
  {
   "cell_type": "markdown",
   "metadata": {},
   "source": [
    "We can make two individual plots, which indicate the dependency of the COP, if\n",
    "we only change one or the other. As a base case, we select the middle\n",
    "temperature value on the ranges defined earlier."
   ]
  },
  {
   "cell_type": "code",
   "execution_count": null,
   "metadata": {},
   "outputs": [],
   "source": [
    "fig, ax = plt.subplots(1, 2, sharey=True, figsize=(12, 7.5))\n",
    "\n",
    "ax[0].scatter(cop_parametric.columns, cop_parametric.loc[0].values)\n",
    "ax[0].set_xlabel(\"Condensation temperature in °C\")\n",
    "ax[0].set_ylabel(\"COP\")\n",
    "ax[1].scatter(cop_parametric.index, cop_parametric[55].values)\n",
    "ax[1].set_xlabel(\"Evaporation temperature in °C\")\n",
    "plt.tight_layout()"
   ]
  },
  {
   "cell_type": "markdown",
   "metadata": {},
   "source": [
    "We can also make a 3D-surface plot using the temperature levels on x and y axes\n",
    "and the COP as z-value."
   ]
  },
  {
   "cell_type": "code",
   "execution_count": null,
   "metadata": {},
   "outputs": [],
   "source": [
    "from matplotlib import cm\n",
    "\n",
    "fig, ax = plt.subplots(1, figsize=(12, 7.5), subplot_kw={\"projection\": \"3d\"})\n",
    "\n",
    "X, Y = np.meshgrid(t_4_range, t_2_range)\n",
    "\n",
    "surf = ax.plot_surface(X, Y, cop_parametric.values, cmap=cm.coolwarm, linewidth=0, antialiased=False)\n",
    "\n",
    "ax.set_xlabel(\"Condensation temperature in °C\")\n",
    "ax.set_ylabel(\"Evaporation temperature in °C\")\n",
    "ax.set_zlabel(\"COP\")\n",
    "ax.view_init(elev=30, azim=225)\n",
    "ax.set_box_aspect(aspect=None, zoom=0.9)\n",
    "fig.colorbar(surf, shrink=0.5, aspect=15)\n",
    "plt.tight_layout()"
   ]
  },
  {
   "cell_type": "markdown",
   "metadata": {},
   "source": [
    "## Tasks part 2\n",
    "\n",
    "The available compressor power is now limited to 200 kW.\n",
    "\n",
    "- What amount of heat can the heat pump deliver in the conditions given in the\n",
    "  table?\n",
    "- What amount of heat can be delivered when the heat source temperature is\n",
    "  reduced to 0 °C.\n",
    "- At which heat source temperature level does the heat pump deliver 1 MW of heat\n",
    "  again?\n",
    "\n",
    "### Reimplementation\n",
    "\n",
    "For the first exercise we can reimplement our example straightforwardly: No\n",
    "temperature levels change, therefore only the calculation of the mass flow\n",
    "changes, i.e. via the compressor power and enthalpy difference instead of the\n",
    "condenser specifications."
   ]
  },
  {
   "cell_type": "code",
   "execution_count": null,
   "metadata": {},
   "outputs": [],
   "source": [
    "fluid = \"R290\"\n",
    "t_2 = 283.15\n",
    "t_4 = 333.15\n",
    "eta_s = 0.8\n",
    "power = 200e3\n",
    "\n",
    "p_2 = PropsSI(\"P\", \"T\", t_2, \"Q\", 1, fluid)\n",
    "p_4 = PropsSI(\"P\", \"T\", t_4, \"Q\", 0, fluid)\n",
    "\n",
    "h_2 = PropsSI(\"H\", \"T\", t_2, \"Q\", 1, fluid)\n",
    "s_2 = PropsSI(\"S\", \"T\", t_2, \"Q\", 1, fluid)\n",
    "\n",
    "p_3 = p_4\n",
    "h_3s = PropsSI(\"H\", \"S\", s_2, \"P\", p_3, fluid)\n",
    "h_3 = h_2 + (h_3s - h_2) / eta_s\n",
    "\n",
    "h_4 = PropsSI(\"H\", \"T\", t_4, \"Q\", 0, fluid)\n",
    "h_1 = h_4\n",
    "\n",
    "m = power / (h_3 - h_2)\n",
    "heat = m * (h_4 - h_3)\n",
    "heat"
   ]
  },
  {
   "cell_type": "markdown",
   "metadata": {},
   "source": [
    "Similarly, we can reuse this implementation and simply change the value of\n",
    "$T_2$."
   ]
  },
  {
   "cell_type": "code",
   "execution_count": null,
   "metadata": {},
   "outputs": [],
   "source": [
    "t_2 = 273.15\n",
    "\n",
    "p_2 = PropsSI(\"P\", \"T\", t_2, \"Q\", 1, fluid)\n",
    "p_4 = PropsSI(\"P\", \"T\", t_4, \"Q\", 0, fluid)\n",
    "\n",
    "h_2 = PropsSI(\"H\", \"T\", t_2, \"Q\", 1, fluid)\n",
    "s_2 = PropsSI(\"S\", \"T\", t_2, \"Q\", 1, fluid)\n",
    "\n",
    "p_3 = p_4\n",
    "h_3s = PropsSI(\"H\", \"S\", s_2, \"P\", p_3, fluid)\n",
    "h_3 = h_2 + (h_3s - h_2) / eta_s\n",
    "\n",
    "h_4 = PropsSI(\"H\", \"T\", t_4, \"Q\", 0, fluid)\n",
    "h_1 = h_4\n",
    "\n",
    "m = power / (h_3 - h_2)\n",
    "heat = m * (h_4 - h_3)\n",
    "heat"
   ]
  },
  {
   "cell_type": "markdown",
   "metadata": {},
   "source": [
    "The third variant is a more complex: We want to have a power input of 200 kW and\n",
    "1 MW of heat production at the same time and search for the temperature $T_2$ to\n",
    "match that specification. Our only fixed point is the state number 4. The state\n",
    "3 depends on the unknown state 2 via the isentropic efficiency equation:\n",
    "\n",
    "```{math}\n",
    "h_3 = h(T=T_2, Q=1) + \\frac{h\\left(p=p_4, s=s\\left(T=T_2, Q=1\\right)\\right) - h\\left(T=T_2,Q=1\\right)}{\\eta_\\text{cmp,s}}\n",
    "```\n",
    "\n",
    "Together with the specifications of the condenser heat production and compressor\n",
    "power input we would have to solve for $T_2$ in this equation, which is not\n",
    "easily possible. Therefore, an iterative approach can be taken making use of our\n",
    "previous implementation."
   ]
  },
  {
   "cell_type": "markdown",
   "metadata": {},
   "source": [
    "### Iterative calculations"
   ]
  },
  {
   "cell_type": "markdown",
   "metadata": {},
   "source": [
    "We can implement a one-dimensional Newton algorithm to solve for the desired\n",
    "property. First, we can validate our implementation vs. the result we can from\n",
    "the first or second assignment."
   ]
  },
  {
   "cell_type": "code",
   "execution_count": null,
   "metadata": {},
   "outputs": [],
   "source": [
    "power_new = 0.2e6\n",
    "fluid = \"R290\"\n",
    "power = 0\n",
    "heat_guess = -1e6\n",
    "t_2 = 283.15\n",
    "\n",
    "d = 1e-6\n",
    "while abs(power - power_new) > 1e-6:\n",
    "    m, power, cop, heat_evap = run_forward(fluid, t_2, t_4, eta_s, heat_guess)\n",
    "    residual = power - power_new\n",
    "    heat_upper = heat_guess + d\n",
    "    heat_lower = heat_guess - d\n",
    "    _, power_upper, _, _ = run_forward(fluid, t_2, t_4, eta_s, heat_upper)\n",
    "    _, power_lower, _, _ = run_forward(fluid, t_2, t_4, eta_s, heat_lower)\n",
    "    derivative = (power_upper - power_lower) / (2 * d)\n",
    "    heat_guess -= residual / derivative\n",
    "\n",
    "heat_guess"
   ]
  },
  {
   "cell_type": "markdown",
   "metadata": {},
   "source": [
    "With the same strategy we can now update our temperature guess value and retrive\n",
    "it with both, power and heat, specified."
   ]
  },
  {
   "cell_type": "code",
   "execution_count": null,
   "metadata": {},
   "outputs": [],
   "source": [
    "power_new = 0.2e6\n",
    "fluid = \"R290\"\n",
    "power = 0\n",
    "heat = -1e6\n",
    "d = 1e-6\n",
    "t_2_guess = 333.15\n",
    "while abs(power - power_new) > 1e-6:\n",
    "    m, power, cop, heat_evap = run_forward(fluid, t_2_guess, t_4, eta_s, heat)\n",
    "    residual = power - power_new\n",
    "    t_2_upper = t_2_guess + d\n",
    "    t_2_lower = t_2_guess - d\n",
    "    _, power_upper, _, _ = run_forward(fluid, t_2_upper, t_4, eta_s, heat)\n",
    "    _, power_lower, _, _ = run_forward(fluid, t_2_lower, t_4, eta_s, heat)\n",
    "    derivative = (power_upper - power_lower) / (2 * d)\n",
    "    t_2_guess -= residual / derivative\n",
    "\n",
    "t_2_guess - 273.15"
   ]
  }
 ],
 "metadata": {
  "kernelspec": {
   "display_name": "teaching-thermal-modeling",
   "language": "python",
   "name": "python3"
  },
  "language_info": {
   "codemirror_mode": {
    "name": "ipython",
    "version": 3
   },
   "file_extension": ".py",
   "mimetype": "text/x-python",
   "name": "python",
   "nbconvert_exporter": "python",
   "pygments_lexer": "ipython3",
   "version": "3.11.6"
  },
  "orig_nbformat": 4
 },
 "nbformat": 4,
 "nbformat_minor": 2
}

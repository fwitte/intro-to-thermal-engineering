{
 "cells": [
  {
   "attachments": {},
   "cell_type": "markdown",
   "metadata": {},
   "source": [
    "# Exercises"
   ]
  },
  {
   "cell_type": "code",
   "execution_count": null,
   "metadata": {},
   "outputs": [],
   "source": [
    "from CoolProp.CoolProp import PropsSI\n",
    "\n",
    "\n",
    "def run_forward(fluid, t_2, t_4, eta_s, heat):\n",
    "\n",
    "    p_2 = PropsSI(\"P\", \"T\", t_2, \"Q\", 1, fluid)\n",
    "    p_4 = PropsSI(\"P\", \"T\", t_4, \"Q\", 0, fluid)\n",
    "\n",
    "    h_2 = PropsSI(\"H\", \"T\", t_2, \"Q\", 1, fluid)\n",
    "    s_2 = PropsSI(\"S\", \"T\", t_2, \"Q\", 1, fluid)\n",
    "\n",
    "    p_3 = p_4\n",
    "    h_3s = PropsSI(\"H\", \"S\", s_2, \"P\", p_3, fluid)\n",
    "    h_3 = h_2 + (h_3s - h_2) / eta_s\n",
    "\n",
    "    h_4 = PropsSI(\"H\", \"T\", t_4, \"Q\", 0, fluid)\n",
    "    h_1 = h_4\n",
    "\n",
    "    m = heat / (h_4 - h_3)\n",
    "    power = m * (h_3 - h_2)\n",
    "    return m, power, p_4, p_2\n",
    "\n",
    "\n",
    "fluid = \"R290\"\n",
    "t_2 = 283.15\n",
    "t_4 = 333.15\n",
    "eta_s = 0.8\n",
    "heat = -1e6\n",
    "m, power, p_4, p_2 = run_forward(fluid, t_2, t_4, eta_s, heat)\n",
    "cop = abs(heat) / power\n",
    "heat_evap = abs(heat) - power"
   ]
  },
  {
   "cell_type": "code",
   "execution_count": null,
   "metadata": {},
   "outputs": [],
   "source": [
    "round(cop, 2)"
   ]
  },
  {
   "cell_type": "code",
   "execution_count": null,
   "metadata": {},
   "outputs": [],
   "source": [
    "round(heat_evap)"
   ]
  },
  {
   "cell_type": "code",
   "execution_count": null,
   "metadata": {},
   "outputs": [],
   "source": [
    "round(power)"
   ]
  },
  {
   "cell_type": "code",
   "execution_count": null,
   "metadata": {},
   "outputs": [],
   "source": [
    "round(m, 2)"
   ]
  },
  {
   "cell_type": "code",
   "execution_count": null,
   "metadata": {},
   "outputs": [],
   "source": [
    "round(p_2)"
   ]
  },
  {
   "cell_type": "code",
   "execution_count": null,
   "metadata": {},
   "outputs": [],
   "source": [
    "round(p_4)"
   ]
  },
  {
   "cell_type": "code",
   "execution_count": null,
   "metadata": {},
   "outputs": [],
   "source": [
    "fluid = \"NH3\"\n",
    "m, power, p_4, p_2 = run_forward(fluid, t_2, t_4, eta_s, heat)\n",
    "cop = abs(heat) / power\n",
    "heat_evap = abs(heat) - power\n",
    "heat_evap"
   ]
  },
  {
   "cell_type": "code",
   "execution_count": null,
   "metadata": {},
   "outputs": [],
   "source": [
    "round(cop, 2)"
   ]
  },
  {
   "cell_type": "markdown",
   "metadata": {},
   "source": [
    "Carnot-efficiency is higher per se. Thermodynamic temperature of heat supply is lower than with the first fluid."
   ]
  },
  {
   "cell_type": "code",
   "execution_count": null,
   "metadata": {},
   "outputs": [],
   "source": [
    "power_new = 0.2e6\n",
    "fluid = \"R290\"\n",
    "power = 0\n",
    "heat_guess = -1e6\n",
    "d = 1e-6\n",
    "while abs(power - power_new) > 1e-6:\n",
    "    m, power, p_2, p_4 = run_forward(fluid, t_2, t_4, eta_s, heat_guess)\n",
    "    residual = power - power_new\n",
    "    heat_upper = heat_guess + d\n",
    "    heat_lower = heat_guess - d\n",
    "    _, power_upper, _, _ = run_forward(fluid, t_2, t_4, eta_s, heat_upper)\n",
    "    _, power_lower, _, _ = run_forward(fluid, t_2, t_4, eta_s, heat_lower)\n",
    "    derivative = (power_upper - power_lower) / (2 * d)\n",
    "    heat_guess -= residual / derivative\n",
    "\n",
    "heat_guess"
   ]
  },
  {
   "cell_type": "code",
   "execution_count": null,
   "metadata": {},
   "outputs": [],
   "source": [
    "power_new = 0.2e6\n",
    "fluid = \"R290\"\n",
    "power = 0\n",
    "heat = -1e6\n",
    "d = 1e-6\n",
    "t_4_guess = 333.15\n",
    "while abs(power - power_new) > 1e-6:\n",
    "    m, power, p_2, p_4 = run_forward(fluid, t_2, t_4_guess, eta_s, heat)\n",
    "    residual = power - power_new\n",
    "    t_4_upper = t_4_guess + d\n",
    "    t_4_lower = t_4_guess - d\n",
    "    _, power_upper, _, _ = run_forward(fluid, t_2, t_4_upper, eta_s, heat)\n",
    "    _, power_lower, _, _ = run_forward(fluid, t_2, t_4_lower, eta_s, heat)\n",
    "    derivative = (power_upper - power_lower) / (2 * d)\n",
    "    t_4_guess -= residual / derivative\n",
    "\n",
    "t_4_guess"
   ]
  }
 ],
 "metadata": {
  "kernelspec": {
   "display_name": "teaching-thermal-modeling",
   "language": "python",
   "name": "python3"
  },
  "language_info": {
   "codemirror_mode": {
    "name": "ipython",
    "version": 3
   },
   "file_extension": ".py",
   "mimetype": "text/x-python",
   "name": "python",
   "nbconvert_exporter": "python",
   "pygments_lexer": "ipython3",
   "version": "3.11.6"
  },
  "orig_nbformat": 4
 },
 "nbformat": 4,
 "nbformat_minor": 2
}

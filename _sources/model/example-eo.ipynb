{
 "cells": [
  {
   "attachments": {},
   "cell_type": "markdown",
   "metadata": {},
   "source": [
    "# Example for the equation oriented approach\n",
    "\n",
    "For the equation oriented approach we implement the equations and respective\n",
    "derivatives with respect to the variables\n",
    "\n",
    "- mass flow,\n",
    "- pressure and\n",
    "- enthalpy.\n",
    "\n",
    "The intention is to show the idea behind the approach as it is implemented in\n",
    "the open source software TESPy.\n",
    "\n",
    "## Equation setup"
   ]
  },
  {
   "cell_type": "code",
   "execution_count": null,
   "metadata": {},
   "outputs": [],
   "source": [
    "import numpy as np\n",
    "from CoolProp.CoolProp import PropsSI\n",
    "import pandas as pd"
   ]
  },
  {
   "cell_type": "markdown",
   "metadata": {},
   "source": [
    "The equations implemented are\n",
    "\n",
    "- pressure ratio $pr=\\frac{p_\\text{out}}{p_\\text{in}}$\n",
    "- isentropic efficiency $\\eta_\\text{s}=\\frac{h_\\text{2s}-h_1}{h_2 - h_1}$\n",
    "- energy equation $\\dot E = \\dot m \\cdot \\left(h_2 - h_1\\right)$\n",
    "- specified temperature $T=T\\left(h, p\\right)$\n",
    "- specified saturated state $Q=Q\\left(h, p\\right)$\n",
    "\n",
    "The functions return a simple value, the derivatives return a dictionary \n",
    "indicating the partial derivatives to each of the relevant variables."
   ]
  },
  {
   "cell_type": "code",
   "execution_count": null,
   "metadata": {},
   "outputs": [],
   "source": [
    "def pr_func(pr, p_1, p_2):\n",
    "    return pr * p_1 - p_2\n",
    "\n",
    "def pr_deriv(pr, p_1, p_2):\n",
    "    return {\"p_1\": pr, \"p_2\": -1}\n",
    "\n",
    "def eta_s_func(eta_s, h_1, p_1, h_2, p_2, fluid):\n",
    "    h_2s = PropsSI(\"H\", \"P\", p_2, \"S\", PropsSI(\"S\", \"H\", h_1, \"P\", p_1, fluid), fluid)\n",
    "    return (h_2 - h_1) * eta_s - (h_2s - h_1)\n",
    "\n",
    "def eta_s_deriv(eta_s, h_1, p_1, h_2, p_2, fluid):\n",
    "    d = 1e-2\n",
    "    return {\n",
    "        \"h_1\": (eta_s_func(eta_s, h_1 + d, p_1, h_2, p_2, fluid) - eta_s_func(eta_s, h_1 - d, p_1, h_2, p_2, fluid)) / (2 * d),\n",
    "        \"h_2\": eta_s,\n",
    "        \"p_1\": (eta_s_func(eta_s, h_1, p_1 + d, h_2, p_2, fluid) - eta_s_func(eta_s, h_1, p_1 - d, h_2, p_2, fluid)) / (2 * d),\n",
    "        \"p_2\": (eta_s_func(eta_s, h_1, p_1, h_2, p_2 + d, fluid) - eta_s_func(eta_s, h_1, p_1, h_2, p_2 - d, fluid)) / (2 * d),\n",
    "    }\n",
    "\n",
    "def energy_func(E, m, h_1, h_2):\n",
    "    return E - m * (h_2 - h_1)\n",
    "\n",
    "def energy_deriv(E, m, h_1, h_2):\n",
    "    return {\n",
    "        \"m\": -(h_2 - h_1),\n",
    "        \"h_2\": -m,\n",
    "        \"h_1\": m\n",
    "    }\n",
    "\n",
    "def temperature_func(T, h, p, fluid):\n",
    "    return PropsSI(\"T\", \"H\", h, \"P\", p, fluid) - T\n",
    "\n",
    "def temperature_deriv(h, p, fluid):\n",
    "    d = 1e-2\n",
    "    return {\n",
    "        \"h\": (PropsSI(\"T\", \"H\", h + d, \"P\", p, fluid) - PropsSI(\"T\", \"H\", h - d, \"P\", p, fluid)) / (2 * d),\n",
    "        \"p\": (PropsSI(\"T\", \"H\", h, \"P\", p + d, fluid) - PropsSI(\"T\", \"H\", h, \"P\", p - d, fluid)) / (2 * d)\n",
    "    }\n",
    "\n",
    "def saturation_func(Q, h, p, fluid):\n",
    "    return PropsSI(\"Q\", \"H\", h, \"P\", p, fluid) - Q\n",
    "\n",
    "def saturation_deriv(h, p, fluid):\n",
    "    d = 1e-2\n",
    "    return {\n",
    "        \"h\": (PropsSI(\"Q\", \"H\", h + d, \"P\", p, fluid) - PropsSI(\"Q\", \"H\", h - d, \"P\", p, fluid)) / (2 * d),\n",
    "        \"p\": (PropsSI(\"Q\", \"H\", h, \"P\", p + d, fluid) - PropsSI(\"Q\", \"H\", h, \"P\", p - d, fluid)) / (2 * d)\n",
    "    }\n"
   ]
  },
  {
   "cell_type": "markdown",
   "metadata": {},
   "source": [
    "With these equations employed we can model operation of a heat pump. First, we\n",
    "set some input values:\n",
    "\n",
    "- Name of the working fluid\n",
    "- evaporation temperature $T_1$\n",
    "- condensation temperature $T_3$\n",
    "- compressor efficiency $\\eta_\\text{s}$\n",
    "- heat supplied by the condenser $\\dot Q$\n",
    "\n",
    "On top of that, we have to set some guess values for the variables. These are:\n",
    "\n",
    "- the mass flow,\n",
    "- enthalpy and pressure after evaporation,\n",
    "- enthalpy and pressure after compression,\n",
    "- enthalpy after condensation (pressure is the same as pressure after\n",
    "  compression) and\n",
    "- enthalpy and pressure after throttling are also known already (enthalpy is the\n",
    "  same as after condensation and pressure is the evaporation pressure).\n",
    "\n",
    "```{note}\n",
    "With the process knowledge we could also calculate a couple more states already.\n",
    "E.g. in TESPy such a presolving step is also included, which generally decreases\n",
    "the problem size. However to showcase the general idea behind the method this\n",
    "step is left out in this context.\n",
    "```"
   ]
  },
  {
   "cell_type": "code",
   "execution_count": null,
   "metadata": {},
   "outputs": [],
   "source": [
    "fluid = \"R290\"\n",
    "t_1 = 10 + 273.15\n",
    "t_3 = 60 + 273.15\n",
    "heat = -1000e3\n",
    "eta_s = 0.8\n",
    "\n",
    "# guess values to start\n",
    "h_2 = 400e3\n",
    "p_2 = 2e5\n",
    "h_3 = 420e3\n",
    "p_3 = 20e5\n",
    "h_4 = 400e3\n",
    "m = 1\n",
    "variables = np.array([h_2, p_2, h_3, p_3, h_4, m])\n",
    "residual = np.ones(6)"
   ]
  },
  {
   "cell_type": "markdown",
   "metadata": {},
   "source": [
    "Next we set up the Newon-Raphson method by calculating the residuals and the\n",
    "Jacobian matrix and updating the input variables after every iteration. This is\n",
    "done until the norm of the residual vector is sufficiently low."
   ]
  },
  {
   "cell_type": "code",
   "execution_count": null,
   "metadata": {},
   "outputs": [],
   "source": [
    "while np.linalg.norm(residual) > 1e-4:\n",
    "\n",
    "    ev_outlet_sat = saturation_func(1, variables[0], variables[1], fluid)\n",
    "    ev_temp = temperature_func(t_1, variables[0], variables[1], fluid)\n",
    "    cp_eff = eta_s_func(eta_s, variables[0], variables[1], variables[2], variables[3], fluid)\n",
    "    cd_outlet_sat = saturation_func(0, variables[4], variables[3], fluid)\n",
    "    cd_temp = temperature_func(t_3, variables[4], variables[3], fluid)\n",
    "    # cp_power = energy_func(power, variables[5], variables[0], variables[2])\n",
    "    cd_heat = energy_func(heat, variables[5], variables[2], variables[4])\n",
    "\n",
    "    residual = np.array([ev_outlet_sat, ev_temp, cp_eff, cd_outlet_sat, cd_temp, cd_heat])\n",
    "    jacobian = np.zeros((6, 6))\n",
    "\n",
    "    ev_outlet_sat_j = saturation_deriv(variables[0], variables[1], fluid)\n",
    "    ev_temp_j = temperature_deriv(variables[0], variables[1], fluid)\n",
    "    cp_eff_j = eta_s_deriv(eta_s, variables[0], variables[1], variables[2], variables[3], fluid)\n",
    "    cd_outlet_sat_j = saturation_deriv(variables[4], variables[3], fluid)\n",
    "    cd_temp_j = temperature_deriv(variables[4], variables[3], fluid)\n",
    "    cd_heat_j = energy_deriv(heat, variables[5], variables[2], variables[4])\n",
    "\n",
    "    jacobian[0, 0] = ev_outlet_sat_j[\"h\"]\n",
    "    jacobian[0, 1] = ev_outlet_sat_j[\"p\"]\n",
    "    jacobian[1, 0] = ev_temp_j[\"h\"]\n",
    "    jacobian[1, 1] = ev_temp_j[\"p\"]\n",
    "    jacobian[2, 0] = cp_eff_j[\"h_1\"]\n",
    "    jacobian[2, 1] = cp_eff_j[\"p_1\"]\n",
    "    jacobian[2, 2] = cp_eff_j[\"h_2\"]\n",
    "    jacobian[2, 3] = cp_eff_j[\"p_2\"]\n",
    "    jacobian[3, 3] = cd_outlet_sat_j[\"p\"]\n",
    "    jacobian[3, 4] = cd_outlet_sat_j[\"h\"]\n",
    "    jacobian[4, 3] = cd_temp_j[\"p\"]\n",
    "    jacobian[4, 4] = cd_temp_j[\"h\"]\n",
    "    jacobian[5, 2] = cd_heat_j[\"h_1\"]\n",
    "    jacobian[5, 4] = cd_heat_j[\"h_2\"]\n",
    "    jacobian[5, 5] = cd_heat_j[\"m\"]\n",
    "\n",
    "    variables -= np.linalg.inv(jacobian).dot(residual)\n",
    "\n",
    "    h_sat = PropsSI(\"H\", \"P\", variables[1], \"Q\", 1, fluid)\n",
    "    if variables[0] > h_sat:\n",
    "        variables[0] = h_sat * 0.9\n",
    "\n",
    "    h_sat = PropsSI(\"H\", \"P\", variables[3], \"Q\", 0, fluid)\n",
    "    if variables[4] < h_sat:\n",
    "        variables[4] = h_sat * 1.2"
   ]
  },
  {
   "cell_type": "markdown",
   "metadata": {},
   "source": [
    "In post-processing we can check the results:"
   ]
  },
  {
   "cell_type": "code",
   "execution_count": null,
   "metadata": {},
   "outputs": [],
   "source": [
    "t_1 = PropsSI(\"T\", \"H\", variables[0], \"P\", variables[1], fluid)\n",
    "t_2 = PropsSI(\"T\", \"H\", variables[2], \"P\", variables[3], fluid)\n",
    "t_3 = PropsSI(\"T\", \"H\", variables[4], \"P\", variables[3], fluid)\n",
    "t_4 = PropsSI(\"T\", \"H\", variables[4], \"P\", variables[1], fluid)\n",
    "\n",
    "p_1 = variables[1]\n",
    "p_2 = variables[3]\n",
    "p_3 = p_2\n",
    "p_4 = p_1\n",
    "\n",
    "h_1 = variables[0]\n",
    "h_2 = variables[2]\n",
    "h_3 = variables[4]\n",
    "h_4 = h_3\n",
    "\n",
    "df = pd.DataFrame(index=[1, 2, 3, 4], columns=[\"m\", \"T\", \"h\", \"p\"])\n",
    "df.loc[1] = [variables[5], t_1, h_1, p_1]\n",
    "df.loc[2] = [variables[5], t_2, h_2, p_2]\n",
    "df.loc[3] = [variables[5], t_3, h_3, p_3]\n",
    "df.loc[4] = [variables[5], t_4, h_4, p_4]\n",
    "df"
   ]
  },
  {
   "cell_type": "code",
   "execution_count": null,
   "metadata": {},
   "outputs": [],
   "source": [
    "df.loc[2, \"m\"] * (df.loc[2, \"h\"] - df.loc[1, \"h\"])"
   ]
  },
  {
   "cell_type": "markdown",
   "metadata": {},
   "source": [
    "Now, let's see, what happens, if we change some parameters. For example, instead\n",
    "of the heat we specify the compressor power and instead of the efficiency we\n",
    "specify the compressor outlet temperature:"
   ]
  },
  {
   "cell_type": "code",
   "execution_count": null,
   "metadata": {},
   "outputs": [],
   "source": [
    "power = 200e3\n",
    "t_2 = 360\n",
    "residual = np.ones(6)"
   ]
  },
  {
   "cell_type": "code",
   "execution_count": null,
   "metadata": {},
   "outputs": [],
   "source": [
    "while np.linalg.norm(residual) > 1e-4:\n",
    "\n",
    "    ev_outlet_sat = saturation_func(1, variables[0], variables[1], fluid)\n",
    "    ev_temp = temperature_func(t_1, variables[0], variables[1], fluid)\n",
    "    cp_temp_out = temperature_func(t_2, variables[2], variables[3], fluid)\n",
    "    cd_outlet_sat = saturation_func(0, variables[4], variables[3], fluid)\n",
    "    cd_temp = temperature_func(t_3, variables[4], variables[3], fluid)\n",
    "    cp_power = energy_func(power, variables[5], variables[0], variables[2])\n",
    "\n",
    "    residual = np.array([ev_outlet_sat, ev_temp, cp_temp_out, cd_outlet_sat, cd_temp, cp_power])\n",
    "    jacobian = np.zeros((6, 6))\n",
    "\n",
    "    ev_outlet_sat_j = saturation_deriv(variables[0], variables[1], fluid)\n",
    "    ev_temp_j = temperature_deriv(variables[0], variables[1], fluid)\n",
    "    cp_temp_out_j = temperature_deriv(variables[2], variables[3], fluid)\n",
    "    cd_outlet_sat_j = saturation_deriv(variables[4], variables[3], fluid)\n",
    "    cd_temp_j = temperature_deriv(variables[4], variables[3], fluid)\n",
    "    cp_power_j = energy_deriv(power, variables[5], variables[0], variables[2])\n",
    "\n",
    "    jacobian[0, 0] = ev_outlet_sat_j[\"h\"]\n",
    "    jacobian[0, 1] = ev_outlet_sat_j[\"p\"]\n",
    "    jacobian[1, 0] = ev_temp_j[\"h\"]\n",
    "    jacobian[1, 1] = ev_temp_j[\"p\"]\n",
    "    jacobian[2, 2] = cp_temp_out_j[\"h\"]\n",
    "    jacobian[2, 3] = cp_temp_out_j[\"p\"]\n",
    "    jacobian[3, 3] = cd_outlet_sat_j[\"p\"]\n",
    "    jacobian[3, 4] = cd_outlet_sat_j[\"h\"]\n",
    "    jacobian[4, 3] = cd_temp_j[\"p\"]\n",
    "    jacobian[4, 4] = cd_temp_j[\"h\"]\n",
    "    jacobian[5, 0] = cp_power_j[\"h_1\"]\n",
    "    jacobian[5, 2] = cp_power_j[\"h_2\"]\n",
    "    jacobian[5, 5] = cp_power_j[\"m\"]\n",
    "\n",
    "    variables -= np.linalg.inv(jacobian).dot(residual)\n",
    "\n",
    "    h_sat = PropsSI(\"H\", \"P\", variables[1], \"Q\", 1, fluid)\n",
    "    if variables[0] > h_sat:\n",
    "        variables[0] = h_sat * 0.9\n",
    "\n",
    "    h_sat = PropsSI(\"H\", \"P\", variables[3], \"Q\", 0, fluid)\n",
    "    if variables[4] < h_sat:\n",
    "        variables[4] = h_sat * 1.2\n"
   ]
  },
  {
   "cell_type": "code",
   "execution_count": null,
   "metadata": {},
   "outputs": [],
   "source": [
    "t_1 = PropsSI(\"T\", \"H\", variables[0], \"P\", variables[1], fluid)\n",
    "t_2 = PropsSI(\"T\", \"H\", variables[2], \"P\", variables[3], fluid)\n",
    "t_3 = PropsSI(\"T\", \"H\", variables[4], \"P\", variables[3], fluid)\n",
    "t_4 = PropsSI(\"T\", \"H\", variables[4], \"P\", variables[1], fluid)\n",
    "\n",
    "p_1 = variables[1]\n",
    "p_2 = variables[3]\n",
    "p_3 = p_2\n",
    "p_4 = p_1\n",
    "\n",
    "h_1 = variables[0]\n",
    "h_2 = variables[2]\n",
    "h_3 = variables[4]\n",
    "h_4 = h_3\n",
    "\n",
    "df = pd.DataFrame(index=[1, 2, 3, 4], columns=[\"m\", \"T\", \"h\", \"p\"])\n",
    "df.loc[1] = [variables[5], t_1, h_1, p_1]\n",
    "df.loc[2] = [variables[5], t_2, h_2, p_2]\n",
    "df.loc[3] = [variables[5], t_3, h_3, p_3]\n",
    "df.loc[4] = [variables[5], t_4, h_4, p_4]\n",
    "df"
   ]
  },
  {
   "cell_type": "code",
   "execution_count": null,
   "metadata": {},
   "outputs": [],
   "source": [
    "df.loc[2, \"m\"] * (df.loc[2, \"h\"] - df.loc[1, \"h\"])"
   ]
  },
  {
   "cell_type": "code",
   "execution_count": null,
   "metadata": {},
   "outputs": [],
   "source": [
    "(PropsSI(\"H\", \"P\", df.loc[2, \"p\"], \"S\", PropsSI(\"S\", \"P\", df.loc[1, \"p\"], \"H\", df.loc[1, \"h\"], fluid), fluid) - df.loc[1, \"h\"]) / (df.loc[2, \"h\"] - df.loc[1, \"h\"])"
   ]
  },
  {
   "cell_type": "markdown",
   "metadata": {},
   "source": [
    "We can see that there is little change to the previous setup of the system. If\n",
    "we are able to abstract guessing starting values, ordering the equations and \n",
    "variables and connect the variables and equations with the Jacobian\n",
    "automatically, we can solve such systems no matter how the user specifications\n",
    "are and how the topology looks like (in principle) without having to extend or\n",
    "tweak or solution algorithm for every application. All this has been implemented\n",
    "in TESPy, as you will learn in the next chapter."
   ]
  }
 ],
 "metadata": {
  "kernelspec": {
   "display_name": "teaching-thermal-modeling",
   "language": "python",
   "name": "python3"
  },
  "language_info": {
   "codemirror_mode": {
    "name": "ipython",
    "version": 3
   },
   "file_extension": ".py",
   "mimetype": "text/x-python",
   "name": "python",
   "nbconvert_exporter": "python",
   "pygments_lexer": "ipython3",
   "version": "3.11.6"
  },
  "orig_nbformat": 4
 },
 "nbformat": 4,
 "nbformat_minor": 2
}

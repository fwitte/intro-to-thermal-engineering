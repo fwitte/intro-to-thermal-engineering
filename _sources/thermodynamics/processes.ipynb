{
 "cells": [
  {
   "attachments": {},
   "cell_type": "markdown",
   "metadata": {},
   "source": [
    "(thermo-processes)=\n",
    "\n",
    "# Thermodynamic processes in open systems\n",
    "\n",
    "## \n",
    "\n",
    "## Energy balance equation\n",
    "\n",
    "To model processes in open thermodynamic systems, the energy balance connects\n",
    "the change of the fluid's state to the energy transfer from or to the system.\n",
    "To simplify, we will only consider systems in *steady-state* operation. That\n",
    "means, that the operation of the system does not change with time, e.g. due to\n",
    "thermal inertia. Furthermore, we will assume, that neither kinetic nor potential\n",
    "energy of the fluid will change, when the fluid passes the system, or the change\n",
    "is negligibly small in comparison to the change of enthalpy.\n",
    "{numref}`thermo-open-system-energy` shows a general thermodynamic open system\n",
    "with $o$ denoting outlet streams and $i$ denoting inlet streams. On top of that,\n",
    "energy can be transferred from or to the system with work or heat.\n",
    "Irreversibility production due to thermodynamic inefficiencies can be neglected\n",
    "at first. Then, the general energy balance of the thermodynamic open system in\n",
    "steady-state operation can be written as follows:\n",
    "\n",
    "```{figure} /figures/Systemoverview.svg\n",
    "---\n",
    "name: thermo-open-system-energy\n",
    "---\n",
    "States of the evaporating fluid.\n",
    "```\n",
    "\n",
    "```{math}\n",
    "\\dot Q + \\dot W = \\sum_o \\left( \\dot m_o \\cdot h_o \\right) - \\sum_i \\left( \\dot m_i \\cdot h_i \\right)\\;\\forall o \\in \\text{outlets};\\forall i \\in \\text{inlets}\n",
    "```\n",
    "\n",
    "Many thermodynamic components will only have a single fluid stream, therefore\n",
    "simplifying the equation:\n",
    "\n",
    "```{math}\n",
    "\\dot Q + \\dot W = \\dot m \\cdot \\left( h_\\text{out} - h_\\text{in}\\right)\n",
    "```\n",
    "\n"
   ]
  }
 ],
 "metadata": {
  "language_info": {
   "name": "python"
  },
  "orig_nbformat": 4
 },
 "nbformat": 4,
 "nbformat_minor": 2
}

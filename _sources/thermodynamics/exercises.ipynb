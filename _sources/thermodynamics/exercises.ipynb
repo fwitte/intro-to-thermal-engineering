{
 "cells": [
  {
   "attachments": {},
   "cell_type": "markdown",
   "metadata": {},
   "source": [
    "# Exercises\n",
    "\n",
    "## Thermodynamic states and simple processes\n",
    "\n",
    "1. Calculate the density and enthalpy of R290 at 5 bar and 50 °C.\n",
    "2. What is the enthalpy of saturated liquid Ammonia at 75 °C.\n",
    "3. Calculate the vapor mass fraction in the two-phase region of Ammonia at the\n",
    "   same enthalpy but at a temperature of 25 °C.\n",
    "4. At what temperature does Ammonia start to boil under a pressure of 4 bar.\n",
    "5. What pressures correspond to a saturation temperature of 20 °C, 65 °C and\n",
    "   110 °C for water?\n",
    "6. Calculate the entropy of R134a for the saturated vapor state at a temperature\n",
    "   of 10 °C.\n",
    "7. What is the temperature of R134a at the same entropy and twice as high\n",
    "   pressure?\n"
   ]
  },
  {
   "cell_type": "code",
   "execution_count": null,
   "metadata": {},
   "outputs": [],
   "source": [
    "from CoolProp.CoolProp import PropsSI"
   ]
  },
  {
   "cell_type": "code",
   "execution_count": null,
   "metadata": {},
   "outputs": [],
   "source": [
    "PropsSI(\"D\", \"P\", 5e5, \"T\", 50 + 273.15, \"R290\")"
   ]
  },
  {
   "cell_type": "code",
   "execution_count": null,
   "metadata": {},
   "outputs": [],
   "source": [
    "h = PropsSI(\"H\", \"Q\", 0, \"T\", 75 + 273.15, \"ammonia\")\n",
    "h"
   ]
  },
  {
   "cell_type": "code",
   "execution_count": null,
   "metadata": {},
   "outputs": [],
   "source": [
    "p = PropsSI(\"P\", \"T\", 25 + 273.15, \"Q\", 0, \"ammonia\")\n",
    "PropsSI(\"Q\", \"H\", h, \"P\", p, \"ammonia\")"
   ]
  },
  {
   "cell_type": "code",
   "execution_count": null,
   "metadata": {},
   "outputs": [],
   "source": [
    "PropsSI(\"T\", \"P\", 4e5, \"Q\", 0, \"ammonia\") - 273.15"
   ]
  },
  {
   "cell_type": "code",
   "execution_count": null,
   "metadata": {},
   "outputs": [],
   "source": [
    "PropsSI(\"P\", \"T\", [t + 273.15 for t in [20, 65, 110]], \"Q\", 0, \"water\")"
   ]
  },
  {
   "cell_type": "code",
   "execution_count": null,
   "metadata": {},
   "outputs": [],
   "source": [
    "s = PropsSI(\"S\", \"T\", 10 + 273.15, \"Q\", 1, \"R134a\")\n",
    "p = PropsSI(\"P\", \"T\", 10 + 273.15, \"Q\", 1, \"R134a\")\n",
    "s"
   ]
  },
  {
   "cell_type": "code",
   "execution_count": null,
   "metadata": {},
   "outputs": [],
   "source": [
    "PropsSI(\"T\", \"S\", s, \"P\", p * 2, \"R134a\") - 273.15"
   ]
  },
  {
   "cell_type": "markdown",
   "metadata": {},
   "source": [
    "\n",
    "## Refrigerants\n",
    "\n",
    "1. Plot the saturation curve for Ammonia, Water, R134a and Pentane in a log-p,T\n",
    "   diagram for temperature ranging from -25 °C to 100 °C.\n",
    "2. Compare the plots: What factors may restrict the usage of the working fluids\n",
    "   in heat pumps?\n",
    "3. Calculate the entropy for the dew line and the bubble line of the same\n",
    "   working fluids for temperature values larger than -25 °C. Plot the lines in\n",
    "   a T-s diagram.\n",
    "4. Compare the plots: What factors may restrict the usage of the working fluids\n",
    "   in heat pumps?\n",
    "   "
   ]
  },
  {
   "cell_type": "code",
   "execution_count": null,
   "metadata": {},
   "outputs": [],
   "source": [
    "from matplotlib import pyplot as plt\n",
    "import numpy as np"
   ]
  },
  {
   "cell_type": "code",
   "execution_count": null,
   "metadata": {},
   "outputs": [],
   "source": [
    "fluids = [\"ammonia\", \"water\", \"R134a\", \"Pentane\", \"R290\", \"R600\", \"R1234ze(E)\"]\n",
    "temperature = np.linspace(-25, 125)\n",
    "saturation_pressure = {}\n",
    "for fluid in fluids:\n",
    "    saturation_pressure[fluid] = PropsSI(\"P\", \"T\", temperature + 273.15, \"Q\", 0, fluid)\n",
    "\n",
    "fig, ax = plt.subplots(2, figsize=(12, 8))\n",
    "\n",
    "for fluid in fluids:\n",
    "    ax[0].plot(temperature, saturation_pressure[fluid], label=fluid)\n",
    "    ax[1].plot(temperature, saturation_pressure[fluid] / saturation_pressure[fluid].min())\n",
    "\n",
    "ax[0].set_yscale(\"log\")\n",
    "ax[0].set_ylabel(\"pressure in Pa\")\n",
    "ax[1].set_xlabel(\"temperature in °C\")\n",
    "\n",
    "ax[0].plot(temperature, [1e5] * len(temperature), \"--\", label=\"ambient pressure\")\n",
    "ax[0].legend()\n",
    "\n",
    "_ = ax[1].set_ylabel(\"pressure ratio p / p$_\\\\text{min}$\")"
   ]
  },
  {
   "cell_type": "markdown",
   "metadata": {},
   "source": [
    "- Operation below ambient pressure is challenging, since a vacuum has to be\n",
    "  preserved. Therefore, for low temperature applications water, pentane and R600\n",
    "  are not very feasible.\n",
    "- Similarly, very high pressure is requires a lot of technical effort. E.g. to\n",
    "  reach 125 °C, Ammonia has to be compressed to about 100 bar.\n",
    "- R290 and R134a have very good pressure ranges. R290 is explosive, R134a has a\n",
    "  very high global warming potential (GWP) [https://ozone.unep.org/system/files/documents/RTOC-assessment%20-report-2022.pdf]\n",
    "- Some reach critical point around 100 °C. In that region, the condensation\n",
    "  section is small, therefore heat exchange has to happen with either larger\n",
    "  surface area or higher temperature difference.\n"
   ]
  },
  {
   "cell_type": "code",
   "execution_count": null,
   "metadata": {},
   "outputs": [],
   "source": [
    "fig, ax = plt.subplots(1, figsize=(12, 8))\n",
    "\n",
    "for fluid in fluids:\n",
    "    temperature_range = np.linspace(-25 + 273.15, PropsSI(\"TCRIT\", fluid))\n",
    "    bubble_entropy = PropsSI(\"S\", \"T\", temperature_range, \"Q\", 0, fluid)\n",
    "    dew_entropy = PropsSI(\"S\", \"T\", temperature_range, \"Q\", 1, fluid)\n",
    "    _ = ax.plot(bubble_entropy, temperature_range - 273.15, label=fluid)\n",
    "    color = _[0].get_color()\n",
    "    ax.plot(dew_entropy, temperature_range - 273.15, color=color)\n",
    "\n",
    "ax.set_ylabel(\"temperature in °C\")\n",
    "ax.set_xlabel(\"entropy in J/kgK\")\n",
    "_ = ax.legend()"
   ]
  },
  {
   "cell_type": "markdown",
   "metadata": {},
   "source": [
    "- Dry fluids (dewline leans over isentropics) risk compression into two-phase\n",
    "  region, which may cause damage to the compressor.\n",
    "- Small two-phase region indicates low heat of condensation ($q=\\int s dT$)\n",
    "  compared to desuperheating, which means higher heat exchange surface area\n",
    "  required."
   ]
  },
  {
   "cell_type": "markdown",
   "metadata": {},
   "source": [
    "## Component Models\n",
    "\n",
    "### Compressor\n",
    "\n",
    "Implement a model, that allows you to model a compressor, where the compression\n",
    "process is adiabatic and reversible (isentropic).\n",
    "   \n",
    "1. What power does the compressor draw if 5 kg/s of R290 are compressed from\n",
    "   saturated gaseous state at 15 °C to a pressure corresponding to a saturation\n",
    "   temperature of 60 °C?\n",
    "2. What is the outlet temperature?\n",
    "3. How much mass can be compressed by the same machine, if 300 kW of power are\n",
    "   available?\n",
    "\n",
    "Now consider thermodynamic inefficiencies by incorporating isentropic\n",
    "efficiency in the model.\n",
    "\n",
    "4. Assume isentropic efficiency of 80 %. What is the power, what is the outlet\n",
    "   temperature?\n",
    "5. The outlet temperature is measured to be 75 °C. What is the isentropic\n",
    "   efficiency?\n",
    "6. How does the compressor power requirement change as function of the\n",
    "   isentropic efficiency with the starting point of the compression as in the\n",
    "   first task. Plot the results.\n"
   ]
  },
  {
   "cell_type": "code",
   "execution_count": null,
   "metadata": {},
   "outputs": [],
   "source": [
    "fluid = \"R290\"\n",
    "m = 5\n",
    "t_1 = 15 + 273.15\n",
    "t_2sat = 60 + 273.15\n",
    "\n",
    "p_1 = PropsSI(\"P\", \"T\", t_1, \"Q\", 1, fluid)\n",
    "\n",
    "h_1 = PropsSI(\"H\", \"P\", p_1, \"Q\", 1, fluid)\n",
    "s_1 = PropsSI(\"S\", \"P\", p_1, \"Q\", 1, fluid)\n",
    "\n",
    "p_2 = PropsSI(\"P\", \"T\", t_2sat, \"Q\", 1, fluid)\n",
    "h_2s = PropsSI(\"H\", \"S\", s_1, \"P\", p_2, fluid)\n",
    "\n",
    "power = m * (h_2s - h_1)\n",
    "power"
   ]
  },
  {
   "cell_type": "code",
   "execution_count": null,
   "metadata": {},
   "outputs": [],
   "source": [
    "t_2s = PropsSI(\"T\", \"H\", h_2s, \"P\", p_2, fluid)\n",
    "t_2s - 273.15"
   ]
  },
  {
   "cell_type": "code",
   "execution_count": null,
   "metadata": {},
   "outputs": [],
   "source": [
    "power = 1e6\n",
    "m = power / (h_2s - h_1)\n",
    "m"
   ]
  },
  {
   "cell_type": "code",
   "execution_count": null,
   "metadata": {},
   "outputs": [],
   "source": [
    "eta_s = 0.8\n",
    "m = 5\n",
    "h_2 = h_1 + (h_2s - h_1) / eta_s\n",
    "power = m * (h_2 - h_1)\n",
    "power"
   ]
  },
  {
   "cell_type": "code",
   "execution_count": null,
   "metadata": {},
   "outputs": [],
   "source": [
    "PropsSI(\"T\", \"H\", h_2, \"P\", p_2, fluid) - 273.15"
   ]
  },
  {
   "cell_type": "code",
   "execution_count": null,
   "metadata": {},
   "outputs": [],
   "source": [
    "t_2 = 75\n",
    "h_2 = PropsSI(\"H\", \"T\", t_2 + 273.14, \"P\", p_2, fluid)\n",
    "(h_2s - h_1) / (h_2 - h_1)"
   ]
  },
  {
   "cell_type": "code",
   "execution_count": null,
   "metadata": {},
   "outputs": [],
   "source": [
    "import numpy as np\n",
    "\n",
    "eta_s_range = np.linspace(0.6, 0.9)\n",
    "h_2_range = h_1 + (h_2s - h_1) / eta_s_range\n",
    "t_2_range = PropsSI(\"T\", \"P\", p_2, \"H\", h_2_range, fluid)\n",
    "power_range = m * (h_2_range - h_1)\n",
    "\n",
    "fig, ax = plt.subplots(2, figsize=(8, 4.5))\n",
    "\n",
    "eta_s_range *= 100\n",
    "power_range /= 1e3\n",
    "t_2_range -= 273.15\n",
    "\n",
    "ax[0].plot(eta_s_range, power_range)\n",
    "ax[0].set_ylabel(\"power input in kW\")\n",
    "ax[1].plot(eta_s_range, t_2_range)\n",
    "ax[1].set_ylabel(\"outlet temperature in °C\")\n",
    "ax[1].set_xlabel(\"isentropic efficiency in %\")\n",
    "\n",
    "ax[0].grid()\n",
    "ax[1].grid()"
   ]
  },
  {
   "cell_type": "markdown",
   "metadata": {},
   "source": [
    "\n",
    "### Heat exchanger\n",
    "\n",
    "1. How much heat is required to completely evaporate 3 kg/s saturated liquid\n",
    "   R134a at 10, 20 and 30 °C?\n",
    "2. Which volumetric flow of air is required to provide the heat in any of the \n",
    "   three cases? Assume, that the minimal temperature difference between the air\n",
    "   and the working fluid is 3 °C and the air temperature changes by 5 °C.\n",
    "3. Which volumetric flow of water is required under the same circumstances?\n",
    "4. What information can you transfer to the heat exchanger design?"
   ]
  },
  {
   "cell_type": "code",
   "execution_count": null,
   "metadata": {},
   "outputs": [],
   "source": [
    "m = 3\n",
    "working_fluid = \"R134a\"\n",
    "t = [_t + 273.15 for _t in [10, 20, 30]]\n",
    "h_1 = PropsSI(\"H\", \"T\", t, \"Q\", 0, working_fluid)\n",
    "h_2 = PropsSI(\"H\", \"T\", t, \"Q\", 1, working_fluid)\n",
    "\n",
    "heat = m * (h_2 - h_1)\n",
    "heat"
   ]
  },
  {
   "cell_type": "code",
   "execution_count": null,
   "metadata": {},
   "outputs": [],
   "source": [
    "t_source_2 = np.array(t) + 3\n",
    "t_source_1 = t_source_2 + 5\n",
    "p_source = 1e5\n",
    "fluid = \"air\"\n",
    "\n",
    "h_source_1 = PropsSI(\"H\", \"T\", t_source_1, \"P\", p_source, fluid)\n",
    "h_source_2 = PropsSI(\"H\", \"T\", t_source_2, \"P\", p_source, fluid)\n",
    "\n",
    "v_source_1 = 1 / PropsSI(\"D\", \"T\", t_source_1, \"P\", p_source, fluid)\n",
    "m_source = -heat / (h_source_2 - h_source_1)\n",
    "m_source"
   ]
  },
  {
   "cell_type": "code",
   "execution_count": null,
   "metadata": {},
   "outputs": [],
   "source": [
    "m_source * v_source_1"
   ]
  },
  {
   "cell_type": "code",
   "execution_count": null,
   "metadata": {},
   "outputs": [],
   "source": [
    "fluid = \"water\"\n",
    "\n",
    "h_source_1 = PropsSI(\"H\", \"T\", t_source_1, \"P\", p_source, fluid)\n",
    "h_source_2 = PropsSI(\"H\", \"T\", t_source_2, \"P\", p_source, fluid)\n",
    "\n",
    "v_source_1 = 1 / PropsSI(\"D\", \"T\", t_source_1, \"P\", p_source, fluid)\n",
    "m_source = -heat / (h_source_2 - h_source_1)\n",
    "m_source"
   ]
  },
  {
   "cell_type": "code",
   "execution_count": null,
   "metadata": {},
   "outputs": [],
   "source": [
    "m_source * v_source_1"
   ]
  },
  {
   "cell_type": "markdown",
   "metadata": {},
   "source": [
    "- High volumetric flow means either high flow speed or very large heat exchange\n",
    "  area.\n",
    "- Pressure losses are extra costly with high volumetric flow, blowers/fans draw\n",
    "  a lot of power.\n",
    "- Water has higher density and also higher mass specific heat capacity. Change\n",
    "  of temperature is lower for any given flowrate.\n"
   ]
  }
 ],
 "metadata": {
  "kernelspec": {
   "display_name": "teaching-thermal-modeling",
   "language": "python",
   "name": "python3"
  },
  "language_info": {
   "codemirror_mode": {
    "name": "ipython",
    "version": 3
   },
   "file_extension": ".py",
   "mimetype": "text/x-python",
   "name": "python",
   "nbconvert_exporter": "python",
   "pygments_lexer": "ipython3",
   "version": "3.11.6"
  },
  "orig_nbformat": 4
 },
 "nbformat": 4,
 "nbformat_minor": 2
}

{
 "cells": [
  {
   "attachments": {},
   "cell_type": "markdown",
   "metadata": {},
   "source": [
    "# Exercises\n",
    "\n",
    "## Thermodynamic states and simple processes\n",
    "\n",
    "Calculate ...\n",
    "\n",
    "1. ... density and enthalpy of R290 at 5 bars pressure and 50 °C.\n",
    "2. ... the enthalpy of saturated liquid Ammonia at 75 °C.\n",
    "3. ... the vapor mass fraction in the two-phase region of Ammonia at the same\n",
    "   enthalpy as in task 2 but at a temperature of 25 °C.\n",
    "4. At what temperature does Ammonia start to boil under a pressure of 4 bars.\n",
    "5. What pressures correspond to a saturation temperature of 20 °C, 75 °C and\n",
    "   110 °C for water?\n"
   ]
  },
  {
   "cell_type": "code",
   "execution_count": null,
   "metadata": {},
   "outputs": [],
   "source": [
    "from CoolProp.CoolProp import PropsSI"
   ]
  },
  {
   "cell_type": "code",
   "execution_count": null,
   "metadata": {},
   "outputs": [],
   "source": [
    "PropsSI(\"D\", \"P\", 5e5, \"T\", 50 + 273.15, \"R290\")"
   ]
  },
  {
   "cell_type": "code",
   "execution_count": null,
   "metadata": {},
   "outputs": [],
   "source": [
    "h = PropsSI(\"H\", \"Q\", 0, \"T\", 75 + 273.15, \"ammonia\")\n",
    "h"
   ]
  },
  {
   "cell_type": "code",
   "execution_count": null,
   "metadata": {},
   "outputs": [],
   "source": [
    "p = PropsSI(\"P\", \"T\", 25 + 273.15, \"Q\", 0, \"ammonia\")\n",
    "PropsSI(\"Q\", \"H\", h, \"P\", p, \"ammonia\")"
   ]
  },
  {
   "cell_type": "code",
   "execution_count": null,
   "metadata": {},
   "outputs": [],
   "source": [
    "PropsSI(\"T\", \"P\", 4e5, \"Q\", 0, \"ammonia\") - 273.15"
   ]
  },
  {
   "cell_type": "code",
   "execution_count": null,
   "metadata": {},
   "outputs": [],
   "source": [
    "PropsSI(\"P\", \"T\", [t + 273.15 for t in [20, 75, 110]], \"Q\", 0, \"water\")"
   ]
  },
  {
   "cell_type": "markdown",
   "metadata": {},
   "source": [
    "\n",
    "## Refrigerants\n",
    "\n",
    "1. Plot the saturation curve for Ammonia, Water, R134a and Pentane in a log-p,T\n",
    "   diagram for temperature ranging from -25 °C to 100 °C.\n",
    "2. Compare the plots: What factors may restrict the usage of the working fluids\n",
    "   in heat pumps?\n",
    "3. Calculate the entropy for the dew line and the bubble line of the same\n",
    "   working fluids for temperature values larger than -25 °C. Plot the lines in\n",
    "   a T-s diagram.\n",
    "4. Compare the plots: What factors may restrict the usage of the working fluids\n",
    "   in heat pumps?\n",
    "   "
   ]
  },
  {
   "cell_type": "code",
   "execution_count": null,
   "metadata": {},
   "outputs": [],
   "source": [
    "from matplotlib import pyplot as plt\n",
    "import numpy as np"
   ]
  },
  {
   "cell_type": "code",
   "execution_count": null,
   "metadata": {},
   "outputs": [],
   "source": [
    "fluids = [\"ammonia\", \"water\", \"R134a\", \"Pentane\", \"R290\"]\n",
    "temperature = np.linspace(-25, 125)\n",
    "saturation_pressure = {}\n",
    "for fluid in fluids:\n",
    "    saturation_pressure[fluid] = PropsSI(\"P\", \"T\", temperature + 273.15, \"Q\", 0, fluid)\n",
    "\n",
    "fig, ax = plt.subplots(2, figsize=(12, 8))\n",
    "\n",
    "for fluid in fluids:\n",
    "    ax[0].plot(temperature, saturation_pressure[fluid], label=fluid)\n",
    "    ax[1].plot(temperature, saturation_pressure[fluid] / saturation_pressure[fluid].min())\n",
    "\n",
    "ax[0].set_yscale(\"log\")\n",
    "ax[0].set_ylabel(\"pressure in Pa\")\n",
    "ax[1].set_xlabel(\"temperature in °C\")\n",
    "\n",
    "ax[0].plot(temperature, [1e5] * len(temperature), \"--\", label=\"ambient pressure\")\n",
    "ax[0].legend()\n",
    "\n",
    "_ = ax[1].set_ylabel(\"pressure ratio p / p$_\\\\text{min}$\")"
   ]
  },
  {
   "cell_type": "code",
   "execution_count": null,
   "metadata": {},
   "outputs": [],
   "source": [
    "fig, ax = plt.subplots(1, figsize=(12, 8))\n",
    "\n",
    "for fluid in fluids:\n",
    "    temperature_range = np.linspace(-25 + 273.15, PropsSI(\"TCRIT\", fluid))\n",
    "    bubble_entropy = PropsSI(\"S\", \"T\", temperature_range, \"Q\", 0, fluid)\n",
    "    dew_entropy = PropsSI(\"S\", \"T\", temperature_range, \"Q\", 1, fluid)\n",
    "    _ = ax.plot(bubble_entropy, temperature_range - 273.15, label=fluid)\n",
    "    color = _[0].get_color()\n",
    "    ax.plot(dew_entropy, temperature_range - 273.15, color=color)\n",
    "\n",
    "ax.set_ylabel(\"temperature in °C\")\n",
    "ax.set_xlabel(\"entropy in J/kgK\")\n",
    "_ = ax.legend()"
   ]
  },
  {
   "cell_type": "markdown",
   "metadata": {},
   "source": [
    "## Component Models\n",
    "\n",
    "### Compressor\n",
    "\n",
    "Implement a model, that allows you to model a compressor, where the compression\n",
    "process is adiabatic and reversible (isentropic).\n",
    "   \n",
    "1. What power does the compressor draw if 5 kg/s of air are compressed from\n",
    "   ambient state (1 bar, 25 °C) to 5 bars.\n",
    "2. What is the outlet temperature of the air.\n",
    "3. How much mass can be compressed by the same machine, if 1 MW of power are\n",
    "   available?\n",
    "\n",
    "Now consider thermodynamic inefficiencies by incorporating isentropic\n",
    "efficiency in the model.\n",
    "\n",
    "4. How does the compressor power requirement change to compress the same air\n",
    "   mass flow as in the first assignment. Make a plot indicating the change of\n",
    "   power over the change of the isentropic efficiency.\n"
   ]
  },
  {
   "cell_type": "code",
   "execution_count": null,
   "metadata": {},
   "outputs": [],
   "source": [
    "fluid = \"air\"\n",
    "m = 5\n",
    "p_1 = 1e5\n",
    "T_1 = 25 + 273.15\n",
    "\n",
    "h_1 = PropsSI(\"H\", \"P\", p_1, \"T\", T_1, fluid)\n",
    "s_1 = PropsSI(\"S\", \"P\", p_1, \"T\", T_1, fluid)\n",
    "\n",
    "p_2 = 5e5\n",
    "h_2s = PropsSI(\"H\", \"S\", s_1, \"P\", p_2, fluid)\n",
    "\n",
    "power = m * (h_2s - h_1)\n",
    "power"
   ]
  },
  {
   "cell_type": "code",
   "execution_count": null,
   "metadata": {},
   "outputs": [],
   "source": [
    "T_2s = PropsSI(\"T\", \"H\", h_2s, \"P\", p_2, fluid)\n",
    "T_2s"
   ]
  },
  {
   "cell_type": "code",
   "execution_count": null,
   "metadata": {},
   "outputs": [],
   "source": [
    "power = 1e6\n",
    "m = power / (h_2s - h_1)\n",
    "m"
   ]
  },
  {
   "cell_type": "code",
   "execution_count": null,
   "metadata": {},
   "outputs": [],
   "source": [
    "eta_s = 0.8\n",
    "m = 5\n",
    "h_2 = h_1 + (h_2s - h_1) / eta_s\n",
    "power = m * (h_2 - h_1)\n",
    "power"
   ]
  },
  {
   "cell_type": "code",
   "execution_count": null,
   "metadata": {},
   "outputs": [],
   "source": [
    "import numpy as np\n",
    "\n",
    "eta_s_range = np.linspace(0.6, 0.9)\n",
    "h_2_range = h_1 + (h_2s - h_1) / eta_s_range\n",
    "T_2_range = PropsSI(\"T\", \"P\", p_2, \"H\", h_2_range, fluid)\n",
    "power_range = m * (h_2_range - h_1)\n",
    "\n",
    "fig, ax = plt.subplots(2, figsize=(8, 4.5))\n",
    "\n",
    "eta_s_range *= 100\n",
    "power_range /= 1e6\n",
    "T_2_range -= 273.15\n",
    "\n",
    "ax[0].plot(eta_s_range, power_range)\n",
    "ax[0].set_ylabel(\"power input in MW\")\n",
    "ax[1].plot(eta_s_range, T_2_range)\n",
    "ax[1].set_ylabel(\"outlet temperature in °C\")\n",
    "ax[1].set_xlabel(\"isentropic efficiency in %\")\n",
    "\n",
    "ax[0].grid()\n",
    "ax[1].grid()"
   ]
  },
  {
   "cell_type": "markdown",
   "metadata": {},
   "source": [
    "\n",
    "### Heat exchanger\n",
    "\n",
    "...\n"
   ]
  }
 ],
 "metadata": {
  "kernelspec": {
   "display_name": "teaching-thermal-modeling",
   "language": "python",
   "name": "python3"
  },
  "language_info": {
   "codemirror_mode": {
    "name": "ipython",
    "version": 3
   },
   "file_extension": ".py",
   "mimetype": "text/x-python",
   "name": "python",
   "nbconvert_exporter": "python",
   "pygments_lexer": "ipython3",
   "version": "3.11.6"
  },
  "orig_nbformat": 4
 },
 "nbformat": 4,
 "nbformat_minor": 2
}

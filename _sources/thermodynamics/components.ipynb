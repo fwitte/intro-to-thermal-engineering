{
 "cells": [
  {
   "attachments": {},
   "cell_type": "markdown",
   "metadata": {},
   "source": [
    "# Components of thermal systems\n",
    "\n",
    "## Heat exchangers\n",
    "\n",
    "- one sided\n",
    "- two sided\n",
    "- condenser and evaporator\n",
    "\n",
    "## Compression or expansion machines\n",
    "\n",
    "- isentropic efficiency concept\n",
    "\n",
    "- compressor and pump\n",
    "- turbine\n",
    "\n",
    "## Other equipment\n",
    "\n",
    "- valve\n",
    "- mixer/splitter\n",
    "\n",
    "- isentropic efficiency of compression\n",
    "\n",
    "```{math}\n",
    "\\eta_\\mathrm{s} = \\frac{h_\\text{out} - h_\\text{in}}{h\\left(p_\\text{out}, s_\\text{in}\\right) - h_\\text{in}}\n",
    "```\n",
    "\n",
    "- components without transfer of work\n",
    "\n",
    "```{math}\n",
    "\\dot W = 0\n",
    "```\n",
    "\n",
    "```{math}\n",
    "\\dot Q = \\dot m \\left( h_\\text{out} - h_\\text{in}\\right)\n",
    "```\n",
    "\n",
    "- isenthalpic components\n",
    "\n",
    "```{math}\n",
    "\\dot Q = 0\\\\\n",
    "\\dot W = 0\n",
    "```\n",
    "\n",
    "```{math}\n",
    "0 = \\dot m \\left( h_\\text{out} - h_\\text{in}\\right)\n",
    "```\n",
    "\n",
    "\n"
   ]
  }
 ],
 "metadata": {
  "language_info": {
   "name": "python"
  },
  "orig_nbformat": 4
 },
 "nbformat": 4,
 "nbformat_minor": 2
}

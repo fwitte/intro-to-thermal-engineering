{
 "cells": [
  {
   "cell_type": "markdown",
   "metadata": {},
   "source": [
    "# Exercises \n",
    "\n",
    "Set up a heat pump model using TESPy with the identical specifications as you\n",
    "have done previously in {ref}`this exercise <exercise-heat-pump>`. The results\n",
    "in this section should be identical to those in the previous section, however,\n",
    "we should be able to find them much easier."
   ]
  },
  {
   "cell_type": "markdown",
   "metadata": {},
   "source": [
    "First, we import the necessary classes from TESPy and create the topology by\n",
    "adding the respective connections to the network instance."
   ]
  },
  {
   "cell_type": "code",
   "execution_count": null,
   "metadata": {},
   "outputs": [],
   "source": [
    "from tespy.components import Compressor, SimpleHeatExchanger, Valve, CycleCloser\n",
    "from tespy.connections import Connection\n",
    "from tespy.tools.helpers import UserDefinedEquation\n",
    "from tespy.networks import Network\n",
    "\n",
    "\n",
    "nw = Network(T_unit=\"C\", p_unit=\"bar\", h_unit=\"kJ / kg\", iterinfo=False)\n",
    "\n",
    "cc = CycleCloser(\"cycle closer\")\n",
    "ev = SimpleHeatExchanger(\"evaporator\")\n",
    "cp = Compressor(\"compressor\")\n",
    "cd = SimpleHeatExchanger(\"condenser\")\n",
    "va = Valve(\"valve\")\n",
    "\n",
    "c1 = Connection(cc, \"out1\", ev, \"in1\", label=\"1\")\n",
    "c2 = Connection(ev, \"out1\", cp, \"in1\", label=\"2\")\n",
    "c3 = Connection(cp, \"out1\", cd, \"in1\", label=\"3\")\n",
    "c4 = Connection(cd, \"out1\", va, \"in1\", label=\"4\")\n",
    "c0 = Connection(va, \"out1\", cc, \"in1\", label=\"0\")\n",
    "\n",
    "nw.add_conns(c0, c1, c2, c3, c4)"
   ]
  },
  {
   "cell_type": "markdown",
   "metadata": {},
   "source": [
    "Next we set up the initial parameters."
   ]
  },
  {
   "cell_type": "code",
   "execution_count": null,
   "metadata": {},
   "outputs": [],
   "source": [
    "t_2 = 10\n",
    "t_4 = 60\n",
    "heat = -1e6\n",
    "fluid = \"R290\"\n",
    "eta_s = 0.8\n",
    "\n",
    "c2.set_attr(fluid={fluid: 1}, x=1, T=t_2)\n",
    "c4.set_attr(x=0, T=t_4)\n",
    "cp.set_attr(eta_s=eta_s)\n",
    "ev.set_attr(pr=1)\n",
    "cd.set_attr(pr=1, Q=heat)"
   ]
  },
  {
   "cell_type": "markdown",
   "metadata": {},
   "source": [
    "We can solve the model by calling the `solve` function on our network instance."
   ]
  },
  {
   "cell_type": "code",
   "execution_count": null,
   "metadata": {},
   "outputs": [],
   "source": [
    "nw.solve(\"design\")"
   ]
  },
  {
   "cell_type": "markdown",
   "metadata": {},
   "source": [
    "The components' information can be accessed via the `val` attribute. `P` is\n",
    "power and `Q` is heat."
   ]
  },
  {
   "cell_type": "code",
   "execution_count": null,
   "metadata": {},
   "outputs": [],
   "source": [
    "cop = abs(cd.Q.val) / cp.P.val\n",
    "cop"
   ]
  },
  {
   "cell_type": "markdown",
   "metadata": {},
   "source": [
    "Now fix the compressor power input and remove the heat demand specification."
   ]
  },
  {
   "cell_type": "code",
   "execution_count": null,
   "metadata": {},
   "outputs": [],
   "source": [
    "cp.set_attr(P=0.2e6)\n",
    "cd.set_attr(Q=None)\n",
    "nw.solve(\"design\")\n",
    "cd.Q.val"
   ]
  },
  {
   "cell_type": "markdown",
   "metadata": {},
   "source": [
    "Fix the heat demand back to the original value and unset the condensation\n",
    "temperature, it will be a result of the calculation."
   ]
  },
  {
   "cell_type": "code",
   "execution_count": null,
   "metadata": {},
   "outputs": [],
   "source": [
    "cd.set_attr(Q=-1e6)\n",
    "c4.set_attr(T=None)\n",
    "nw.solve(\"design\")\n",
    "c4.T.val"
   ]
  },
  {
   "cell_type": "markdown",
   "metadata": {},
   "source": [
    "If topologies get more complex and we do not know the amount of heat and power\n",
    "directly, but we want to achieve a specific COP anyways, we can define our own\n",
    "equations and pass them into our model.\n",
    "\n",
    "First we define the COP equation:\n",
    "\n",
    "```{math}\n",
    "0 = \\left(h_2 - h_3 \\right) - \\text{COP} \\cdot \\left(h_2 - h_1\\right)\n",
    "```\n",
    "\n",
    "Then we create the Jacobian for that equation and put it inside a function as\n",
    "well.\n",
    "\n",
    "```{math}\n",
    "\\begin{align}\n",
    "\\frac{\\partial}{\\partial h_1} = &\\;\\text{COP}\\\\\n",
    "\\frac{\\partial}{\\partial h_2} = &\\; 1-\\text{COP}\\\\\n",
    "\\frac{\\partial}{\\partial h_3} = &\\;-1\n",
    "\\end{align}\n",
    "```"
   ]
  },
  {
   "cell_type": "code",
   "execution_count": null,
   "metadata": {},
   "outputs": [],
   "source": [
    "def cop_ude(ude):\n",
    "    c1, c2, c3 = ude.conns\n",
    "    cop = ude.params[\"cop\"]\n",
    "    return (c2.h.val_SI - c3.h.val_SI) - cop * (c2.h.val_SI - c1.h.val_SI)\n",
    "\n",
    "\n",
    "def cop_jacobian(ude):\n",
    "    c1, c2, c3 = ude.conns\n",
    "    if c1.h.is_var:\n",
    "        ude.jacobian[c1.h.J_col] = cop\n",
    "    if c2.h.is_var:\n",
    "        ude.jacobian[c2.h.J_col] = 1 - cop\n",
    "    if c3.h.is_var:\n",
    "        ude.jacobian[c3.h.J_col] = -1"
   ]
  },
  {
   "cell_type": "markdown",
   "metadata": {},
   "source": [
    "We can unset the condenser heat specification again and create a\n",
    "`UserDefinedEquation` with a cop specification of 5."
   ]
  },
  {
   "cell_type": "code",
   "execution_count": null,
   "metadata": {},
   "outputs": [],
   "source": [
    "cd.set_attr(Q=None)\n",
    "\n",
    "\n",
    "ude = UserDefinedEquation(\"cop-ude\", cop_ude, cop_jacobian, [c2, c3, c4], {\"cop\": 5})\n",
    "nw.add_ude(ude)\n",
    "\n",
    "nw.solve(\"design\")"
   ]
  },
  {
   "cell_type": "markdown",
   "metadata": {},
   "source": [
    "This should give us a COP of 5."
   ]
  },
  {
   "cell_type": "code",
   "execution_count": null,
   "metadata": {},
   "outputs": [],
   "source": [
    "abs(cd.Q.val) / cp.P.val"
   ]
  }
 ],
 "metadata": {
  "kernelspec": {
   "display_name": "teaching-thermal-modeling",
   "language": "python",
   "name": "python3"
  },
  "language_info": {
   "codemirror_mode": {
    "name": "ipython",
    "version": 3
   },
   "file_extension": ".py",
   "mimetype": "text/x-python",
   "name": "python",
   "nbconvert_exporter": "python",
   "pygments_lexer": "ipython3",
   "version": "3.11.6"
  },
  "orig_nbformat": 4
 },
 "nbformat": 4,
 "nbformat_minor": 2
}
